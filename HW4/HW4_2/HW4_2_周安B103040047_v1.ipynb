{
  "cells": [
    {
      "cell_type": "markdown",
      "metadata": {
        "id": "O-Le3SYNPlH3"
      },
      "source": [
        "## 進階機器學習 HW4-2\n",
        "#### Split the dataset in HW3_ text.csv **into 70% training and 30% testing subsets**. **Fine-tune a BERT model** using the training data and perform text classification on the test set. Present the **confusion matrix** based on the test results. \n",
        "* 學號: B103040047\n",
        "* 姓名: 周安"
      ]
    },
    {
      "cell_type": "code",
      "execution_count": 530,
      "metadata": {},
      "outputs": [],
      "source": [
        "SOURCE_FILE = \"HW3_text.csv\""
      ]
    },
    {
      "cell_type": "code",
      "execution_count": 531,
      "metadata": {},
      "outputs": [],
      "source": [
        "import torch.nn as nn\n",
        "import torch.nn.functional as F\n",
        "from torch.utils.data import Dataset, DataLoader\n",
        "\n",
        "import numpy as np\n",
        "import matplotlib.pyplot as plt\n",
        "import seaborn as sns\n",
        "from sklearn.metrics import confusion_matrix\n",
        "\n",
        "import pandas as pd"
      ]
    },
    {
      "cell_type": "code",
      "execution_count": 532,
      "metadata": {},
      "outputs": [],
      "source": [
        "import random\n",
        "\n",
        "import torch\n",
        "import numpy as np\n",
        "\n",
        "# for reproduce rsult\n",
        "def same_seeds(seed):\n",
        "    # Python built-in random module\n",
        "    random.seed(seed)\n",
        "    # Numpy\n",
        "    np.random.seed(seed)\n",
        "    # Torch\n",
        "    torch.manual_seed(seed)\n",
        "    generator = torch.Generator().manual_seed(seed)\n",
        "    if torch.cuda.is_available():\n",
        "        torch.cuda.manual_seed(seed)\n",
        "        torch.cuda.manual_seed_all(seed)\n",
        "    torch.backends.cudnn.benchmark = False\n",
        "    torch.backends.cudnn.deterministic = True\n",
        "    return generator\n",
        "generator = same_seeds(122)"
      ]
    },
    {
      "cell_type": "markdown",
      "metadata": {},
      "source": [
        "Load the csv file."
      ]
    },
    {
      "cell_type": "code",
      "execution_count": 533,
      "metadata": {},
      "outputs": [
        {
          "name": "stdout",
          "output_type": "stream",
          "text": [
            "                                               message sentiment\n",
            "0                           I really enjoyed the movie  positive\n",
            "1                                The food was terrible  negative\n",
            "2                   I'm not sure how I feel about this   neutral\n",
            "3                            The service was excellent  positive\n",
            "4                               I had a bad experience  negative\n",
            "..                                                 ...       ...\n",
            "579  I have to cancel my vacation plans because I c...  negative\n",
            "580  My computer crashed and I lost all my importan...  negative\n",
            "581  I got into a car accident and my car is totale...  negative\n",
            "582  I have a cold and can't stop coughing. it's re...  negative\n",
            "583  I just found out my ex is dating someone new. ...  negative\n",
            "\n",
            "[584 rows x 2 columns]\n",
            "I just found out my ex is dating someone new. I feel so heartbroken 💔😢\n"
          ]
        }
      ],
      "source": [
        "text_df = pd.read_csv(SOURCE_FILE)\n",
        "print(text_df)\n",
        "print(text_df[\"message\"][583])"
      ]
    },
    {
      "cell_type": "markdown",
      "metadata": {},
      "source": [
        "## Load the tokenizer."
      ]
    },
    {
      "cell_type": "code",
      "execution_count": 534,
      "metadata": {},
      "outputs": [
        {
          "name": "stdout",
          "output_type": "stream",
          "text": [
            "PyTorch version： 2.3.1\n"
          ]
        }
      ],
      "source": [
        "from transformers import BertTokenizer # or it can use AutoTokenizer\n",
        "from IPython.display import clear_output\n",
        "from tqdm import tqdm\n",
        "PRETRAINED_MODEL_NAME = \"bert-base-uncased\" # pre-trained on cased ENG\n",
        "\n",
        "tokenizer = BertTokenizer.from_pretrained(PRETRAINED_MODEL_NAME)\n",
        "\n",
        "clear_output()\n",
        "print(\"PyTorch version：\", torch.__version__)"
      ]
    },
    {
      "cell_type": "code",
      "execution_count": 535,
      "metadata": {},
      "outputs": [
        {
          "name": "stdout",
          "output_type": "stream",
          "text": [
            "DICT SIZE: 30522\n"
          ]
        }
      ],
      "source": [
        "vocab = tokenizer.vocab\n",
        "print(\"DICT SIZE:\", len(vocab))"
      ]
    },
    {
      "cell_type": "code",
      "execution_count": 536,
      "metadata": {},
      "outputs": [
        {
          "name": "stdout",
          "output_type": "stream",
          "text": [
            "{'unk_token': '[UNK]', 'sep_token': '[SEP]', 'pad_token': '[PAD]', 'cls_token': '[CLS]', 'mask_token': '[MASK]'}\n"
          ]
        }
      ],
      "source": [
        "print(tokenizer.special_tokens_map)"
      ]
    },
    {
      "cell_type": "code",
      "execution_count": 537,
      "metadata": {},
      "outputs": [
        {
          "name": "stdout",
          "output_type": "stream",
          "text": [
            "All special tokens: ['[UNK]', '[SEP]', '[PAD]', '[CLS]', '[MASK]']\n",
            "All special token IDs: [100, 102, 0, 101, 103]\n",
            "[CLS] token: [CLS]\n",
            "[SEP] token: [SEP]\n",
            "[PAD] token: [PAD]\n",
            "[MASK] token: [MASK]\n",
            "[UNK] token: [UNK]\n",
            "[CLS] token ID: 101\n"
          ]
        }
      ],
      "source": [
        "# Print all special tokens\n",
        "print(\"All special tokens:\", tokenizer.all_special_tokens)\n",
        "\n",
        "# Print all special token IDs\n",
        "print(\"All special token IDs:\", tokenizer.all_special_ids)\n",
        "\n",
        "# Individual tokens\n",
        "print(\"[CLS] token:\", tokenizer.cls_token)\n",
        "print(\"[SEP] token:\", tokenizer.sep_token)\n",
        "print(\"[PAD] token:\", tokenizer.pad_token)\n",
        "print(\"[MASK] token:\", tokenizer.mask_token)\n",
        "print(\"[UNK] token:\", tokenizer.unk_token)\n",
        "\n",
        "# You can also get their corresponding IDs\n",
        "print(\"[CLS] token ID:\", tokenizer.cls_token_id)"
      ]
    },
    {
      "cell_type": "markdown",
      "metadata": {},
      "source": [
        "### Test on sentence to see the result of different tokenizer usage.\n",
        "* The **emoji** will be treated as `[UNK]`.\n",
        "* `'##broken'` is derived from `heartbroken`."
      ]
    },
    {
      "cell_type": "code",
      "execution_count": 538,
      "metadata": {},
      "outputs": [
        {
          "name": "stdout",
          "output_type": "stream",
          "text": [
            "I just found out my ex is dating someone new. I feel so heartbroken 💔😢\n",
            "['i', 'just', 'found', 'out', 'my', 'ex', 'is', 'dating', 'someone', 'new', '.', 'i', 'feel', 'so', 'heart', '##broken', '[UNK]']\n",
            "[1045, 2074, 2179, 2041, 2026, 4654, 2003, 5306, 2619, 2047, 1012, 1045, 2514, 2061, 2540, 29162, 100]\n"
          ]
        }
      ],
      "source": [
        "text = text_df[\"message\"][583]\n",
        "tokens = tokenizer.tokenize(text)\n",
        "ids = tokenizer.convert_tokens_to_ids(tokens)\n",
        "\n",
        "print(text)\n",
        "print(tokens)\n",
        "print(ids)"
      ]
    },
    {
      "cell_type": "code",
      "execution_count": 539,
      "metadata": {},
      "outputs": [
        {
          "name": "stdout",
          "output_type": "stream",
          "text": [
            "[101, 1045, 2074, 2179, 2041, 2026, 4654, 2003, 5306, 2619, 2047, 1012, 1045, 2514, 2061, 2540, 29162, 100, 102]\n",
            "[CLS] i just found out my ex is dating someone new. i feel so heartbroken [UNK] [SEP]\n"
          ]
        }
      ],
      "source": [
        "ids = tokenizer.encode(text) # add [CLS] and [SEP] automatically\n",
        "print(ids)\n",
        "text_decode = tokenizer.decode(ids)\n",
        "print(text_decode)"
      ]
    },
    {
      "cell_type": "code",
      "execution_count": 540,
      "metadata": {},
      "outputs": [
        {
          "name": "stdout",
          "output_type": "stream",
          "text": [
            "{'input_ids': [101, 1045, 2074, 2179, 2041, 2026, 4654, 2003, 5306, 2619, 2047, 1012, 1045, 2514, 2061, 2540, 29162, 100, 102], 'token_type_ids': [0, 0, 0, 0, 0, 0, 0, 0, 0, 0, 0, 0, 0, 0, 0, 0, 0, 0, 0], 'attention_mask': [1, 1, 1, 1, 1, 1, 1, 1, 1, 1, 1, 1, 1, 1, 1, 1, 1, 1, 1]}\n"
          ]
        }
      ],
      "source": [
        "es = tokenizer.encode_plus(text)\n",
        "print(es)"
      ]
    },
    {
      "cell_type": "code",
      "execution_count": 541,
      "metadata": {},
      "outputs": [
        {
          "name": "stdout",
          "output_type": "stream",
          "text": [
            "{'input_ids': tensor([[  101,  1045,  2074,  2179,  2041,  2026,  4654,  2003,  5306,  2619,\n",
            "          2047,  1012,  1045,  2514,  2061,  2540, 29162,   100,   102]]), 'token_type_ids': tensor([[0, 0, 0, 0, 0, 0, 0, 0, 0, 0, 0, 0, 0, 0, 0, 0, 0, 0, 0]]), 'attention_mask': tensor([[1, 1, 1, 1, 1, 1, 1, 1, 1, 1, 1, 1, 1, 1, 1, 1, 1, 1, 1]])}\n",
            "<class 'transformers.tokenization_utils_base.BatchEncoding'>\n"
          ]
        }
      ],
      "source": [
        "inputs = tokenizer(text, padding=True, truncation=True, return_tensors=\"pt\") # return like a dict\n",
        "print(inputs)\n",
        "print(type(inputs))"
      ]
    },
    {
      "cell_type": "markdown",
      "metadata": {},
      "source": [
        "### Choose three tensors as BERT's input:\n",
        "1. `input_ids`: token ID\n",
        "2. `token_type_ids`: indicate sentence number\n",
        "3. `attention_mask`: check if this token need to get attention"
      ]
    },
    {
      "cell_type": "code",
      "execution_count": 542,
      "metadata": {},
      "outputs": [
        {
          "name": "stdout",
          "output_type": "stream",
          "text": [
            "{'input_ids': tensor([[  101,  1045,  2074,  2179,  2041,  2026,  4654,  2003,  5306,  2619,\n",
            "          2047,  1012,  1045,  2514,  2061,  2540, 29162,   100,   102,     0]]), 'token_type_ids': tensor([[0, 0, 0, 0, 0, 0, 0, 0, 0, 0, 0, 0, 0, 0, 0, 0, 0, 0, 0, 0]]), 'attention_mask': tensor([[1, 1, 1, 1, 1, 1, 1, 1, 1, 1, 1, 1, 1, 1, 1, 1, 1, 1, 1, 0]])}\n"
          ]
        }
      ],
      "source": [
        "es = tokenizer.encode_plus(\n",
        "    text,\n",
        "    max_length = 20,\n",
        "    truncation = True,\n",
        "    padding = 'max_length',\n",
        "    return_tensors = 'pt' # for torch\n",
        ")\n",
        "print(es)"
      ]
    },
    {
      "cell_type": "markdown",
      "metadata": {},
      "source": [
        "### Parameter Setting"
      ]
    },
    {
      "cell_type": "code",
      "execution_count": 543,
      "metadata": {},
      "outputs": [
        {
          "name": "stdout",
          "output_type": "stream",
          "text": [
            "MAX_TOKEN_LENGTH = 30\n",
            "Train on cuda.\n"
          ]
        }
      ],
      "source": [
        "# Hyper Parameters\n",
        "LR = 0.0001\n",
        "batch_size_train = 16\n",
        "batch_size_val = 16\n",
        "NUM_EPOCHS = 8\n",
        "\n",
        "LABELS = {'negative':0, 'positive':1, 'neutral':2}\n",
        "MAX_TOKEN_LENGTH = 30 \n",
        "# if sentences aren't as long as MAX_SEQUENCE_LENGTH, padding it in front of the first word\n",
        "print(f\"MAX_TOKEN_LENGTH = {MAX_TOKEN_LENGTH}\")\n",
        "\n",
        "# Check available device\n",
        "device = torch.device('cuda' if torch.cuda.is_available() else 'cpu')\n",
        "print(f\"Train on {device}.\")"
      ]
    },
    {
      "cell_type": "markdown",
      "metadata": {},
      "source": [
        "### Create dataset\n",
        "* Each tensor is MAX_TOKEN_LENGTH = 26 dimension."
      ]
    },
    {
      "cell_type": "code",
      "execution_count": 544,
      "metadata": {},
      "outputs": [],
      "source": [
        "class TextDataset(Dataset):\n",
        "    def __init__(self, df, labels, tokenizer, max_token_len, mode=\"train\"):\n",
        "        self.df = df\n",
        "        self.label_type = labels\n",
        "        self.tokenizer = tokenizer\n",
        "        self.max_token_len = max_token_len\n",
        "        self.mode = mode # \"train\" or \"val\" or \"test\"\n",
        "\n",
        "        self.num_class = len(self.label_type)\n",
        "    # transform text to its id\n",
        "    def tokenize(self,input_text):\n",
        "        inputs = self.tokenizer.encode_plus(\n",
        "            input_text,\n",
        "            max_length = self.max_token_len,\n",
        "            truncation = True,\n",
        "            padding = 'max_length',\n",
        "            return_tensors = 'pt' # for torch\n",
        "        )\n",
        "        # get the first result, unsqueeze one dimension return from encode_plus\n",
        "        ids = inputs['input_ids'][0] \n",
        "        mask = inputs['attention_mask'][0]\n",
        "        token_type_ids = inputs[\"token_type_ids\"][0]\n",
        "        \n",
        "        return ids, mask, token_type_ids\n",
        "    \n",
        "    def __getitem__(self,idx):\n",
        "        msg = self.df['message'][idx]\n",
        "        # to encode this msg\n",
        "        ids, mask, token_type_ids = self.tokenize(msg) # return three tensors\n",
        "\n",
        "        if self.mode != \"test\":\n",
        "                label = self.label_type[self.df['sentiment'][idx]]\n",
        "        else:\n",
        "                label = 0 # not used\n",
        "        label = torch.tensor(label, dtype=torch.long)\n",
        "        return ids, mask, token_type_ids, label\n",
        "\n",
        "    def __len__(self):\n",
        "        return len(self.df)"
      ]
    },
    {
      "cell_type": "code",
      "execution_count": 545,
      "metadata": {},
      "outputs": [
        {
          "name": "stdout",
          "output_type": "stream",
          "text": [
            "Length of train_subset: 408\n",
            "Length of val_subset: 176\n"
          ]
        }
      ],
      "source": [
        "from torch.utils.data import random_split\n",
        "\n",
        "train_dataset = TextDataset(text_df, LABELS, tokenizer, MAX_TOKEN_LENGTH, mode=\"train\")\n",
        "\n",
        "# divide into 70% and 30%\n",
        "total_len = len(train_dataset)\n",
        "train_len = int(0.7 * total_len)\n",
        "val_len = total_len - train_len\n",
        "\n",
        "train_subset, val_subset = random_split(train_dataset, [train_len, val_len], generator=generator)\n",
        "print(\"Length of train_subset:\", len(train_subset))\n",
        "print(\"Length of val_subset:\", len(val_subset))\n",
        "# create  dataloader for training\n",
        "train_dataloader = DataLoader(train_subset, batch_size=batch_size_train, shuffle=True, pin_memory=True)\n",
        "val_dataloader = DataLoader(val_subset, batch_size=batch_size_val, shuffle=False, pin_memory=True)"
      ]
    },
    {
      "cell_type": "code",
      "execution_count": 546,
      "metadata": {},
      "outputs": [
        {
          "name": "stdout",
          "output_type": "stream",
          "text": [
            "torch.Size([16, 30]) torch.Size([16, 30]) torch.Size([16, 30]) torch.Size([16])\n",
            "tensor([0, 0, 2, 2, 1, 0, 0, 1, 0, 2, 2, 1, 1, 2, 2, 1])\n"
          ]
        }
      ],
      "source": [
        "# see if it operates correctly\n",
        "# See the data's shape\n",
        "for x, y, z, label in val_dataloader:\n",
        "    print(x.shape,y.shape,z.shape,label.shape)\n",
        "    print(label)\n",
        "    break"
      ]
    },
    {
      "cell_type": "markdown",
      "metadata": {},
      "source": [
        "#### Below, it shows the length of available token length in order to adjust the `MAX_TOKEN_LENGTH`"
      ]
    },
    {
      "cell_type": "code",
      "execution_count": 547,
      "metadata": {},
      "outputs": [
        {
          "name": "stderr",
          "output_type": "stream",
          "text": [
            "100%|██████████| 26/26 [00:00<00:00, 285.32it/s]\n",
            "100%|██████████| 11/11 [00:00<00:00, 269.31it/s]"
          ]
        },
        {
          "name": "stdout",
          "output_type": "stream",
          "text": [
            "tensor(28)\n"
          ]
        },
        {
          "name": "stderr",
          "output_type": "stream",
          "text": [
            "\n"
          ]
        }
      ],
      "source": [
        "max = 0\n",
        "for ids, mask, token_type_ids, _ in tqdm(train_dataloader):\n",
        "    temp = torch.sum(mask, dim=1)\n",
        "    value, idx = torch.max(temp, dim=0)\n",
        "    if value > max:\n",
        "        max = value\n",
        "\n",
        "for ids, mask, token_type_ids, _ in tqdm(val_dataloader):\n",
        "    temp = torch.sum(mask, dim=1)\n",
        "    value, idx = torch.max(temp, dim=0)\n",
        "    if value > max:\n",
        "        max = value\n",
        "print(max)"
      ]
    },
    {
      "cell_type": "markdown",
      "metadata": {},
      "source": [
        "### See distribution of labels in dataset."
      ]
    },
    {
      "cell_type": "code",
      "execution_count": 548,
      "metadata": {},
      "outputs": [
        {
          "data": {
            "text/plain": [
              "{'negative': 0, 'positive': 1, 'neutral': 2}"
            ]
          },
          "execution_count": 548,
          "metadata": {},
          "output_type": "execute_result"
        }
      ],
      "source": [
        "LABELS"
      ]
    },
    {
      "cell_type": "code",
      "execution_count": 549,
      "metadata": {},
      "outputs": [
        {
          "name": "stderr",
          "output_type": "stream",
          "text": [
            "100%|██████████| 26/26 [00:00<00:00, 288.22it/s]\n"
          ]
        },
        {
          "name": "stdout",
          "output_type": "stream",
          "text": [
            "0 : 25.4902%\n",
            "1 : 28.9216%\n",
            "2 : 45.5882%\n"
          ]
        },
        {
          "name": "stderr",
          "output_type": "stream",
          "text": [
            "100%|██████████| 11/11 [00:00<00:00, 264.67it/s]"
          ]
        },
        {
          "name": "stdout",
          "output_type": "stream",
          "text": [
            "0 : 10.5392%\n",
            "1 : 14.7059%\n",
            "2 : 17.8922%\n"
          ]
        },
        {
          "name": "stderr",
          "output_type": "stream",
          "text": [
            "\n"
          ]
        }
      ],
      "source": [
        "distribution = [0, 0, 0]\n",
        "for _, _, _, y in tqdm(train_dataloader):\n",
        "    for label in y:\n",
        "        distribution[int(label)] += 1\n",
        "percentage = np.array(distribution) / len(train_subset) * 100\n",
        "for i, number in enumerate(percentage):\n",
        "    print(f\"{i} : {number:.4f}%\")\n",
        "distribution = [0, 0, 0]\n",
        "for _, _, _, y in tqdm(val_dataloader):\n",
        "    for label in y:\n",
        "        distribution[int(label)] += 1\n",
        "percentage = np.array(distribution) / len(train_subset) * 100\n",
        "for i, number in enumerate(percentage):\n",
        "    print(f\"{i} : {number:.4f}%\")"
      ]
    },
    {
      "cell_type": "markdown",
      "metadata": {},
      "source": [
        "### Define BERT model (Use designed model from transformer)\n",
        "* [BertForSequenceClassification](https://huggingface.co/docs/transformers/v4.34.0/en/model_doc/bert#transformers.BertForSequenceClassification)\n",
        "    * It is pre-trained BERT + linear classsifier\n",
        "    * Choose 3 Input tensors:\n",
        "    1. ids `(batch_size, sequence_length)`\n",
        "    2. mask `(batch_size, sequence_length)`\n",
        "    3. token_id_type `(batch_size, sequence_length)`\n",
        "    * Output:\n",
        "        * Based on above settings, model will return `logits`(torch.FloatTensor of shape `(batch_size, config.num_labels))`  Classification scores (**before SoftMax**).  \n",
        "    * If I don't give `position_ids`, BERT will define it as `[0, 1, ..., seq_len-1]`\n",
        "    * If I give label to model, it can return `loss`.\n",
        "    * It shows this BERT model's hidden state dimension is **768**."
      ]
    },
    {
      "cell_type": "code",
      "execution_count": 550,
      "metadata": {},
      "outputs": [
        {
          "name": "stdout",
          "output_type": "stream",
          "text": [
            "Classifier Model structure:\n",
            "\n",
            "name            module\n",
            "----------------------\n",
            "bert:embeddings\n",
            "bert:encoder\n",
            "bert:pooler\n",
            "dropout         Dropout(p=0.1, inplace=False)\n",
            "classifier      Linear(in_features=768, out_features=3, bias=True)\n"
          ]
        }
      ],
      "source": [
        "from transformers import BertForSequenceClassification\n",
        "# Can do classification\n",
        "model = BertForSequenceClassification.from_pretrained(PRETRAINED_MODEL_NAME, num_labels=len(LABELS)).to(device)\n",
        "# set loss function\n",
        "criterion = nn.CrossEntropyLoss()\n",
        "# set optimizer\n",
        "optimizer = torch.optim.Adam(model.parameters(), lr=LR, betas=(0.9, 0.999))\n",
        "clear_output()\n",
        "print(\"Classifier Model structure:\")\n",
        "print(\"\"\"\n",
        "name            module\n",
        "----------------------\"\"\")\n",
        "for name, module in model.named_children():\n",
        "    if name == \"bert\":\n",
        "        for n, _ in module.named_children():\n",
        "            print(f\"{name}:{n}\")\n",
        "    else:\n",
        "        print(\"{:15} {}\".format(name, module))"
      ]
    },
    {
      "cell_type": "code",
      "execution_count": 551,
      "metadata": {},
      "outputs": [
        {
          "name": "stdout",
          "output_type": "stream",
          "text": [
            "bert.embeddings.word_embeddings.weight: requires_grad=True\n",
            "bert.embeddings.position_embeddings.weight: requires_grad=True\n",
            "bert.embeddings.token_type_embeddings.weight: requires_grad=True\n",
            "bert.embeddings.LayerNorm.weight: requires_grad=True\n",
            "bert.embeddings.LayerNorm.bias: requires_grad=True\n",
            "bert.encoder.layer.0.attention.self.query.weight: requires_grad=True\n",
            "bert.encoder.layer.0.attention.self.query.bias: requires_grad=True\n",
            "bert.encoder.layer.0.attention.self.key.weight: requires_grad=True\n",
            "bert.encoder.layer.0.attention.self.key.bias: requires_grad=True\n",
            "bert.encoder.layer.0.attention.self.value.weight: requires_grad=True\n",
            "bert.encoder.layer.0.attention.self.value.bias: requires_grad=True\n",
            "bert.encoder.layer.0.attention.output.dense.weight: requires_grad=True\n",
            "bert.encoder.layer.0.attention.output.dense.bias: requires_grad=True\n",
            "bert.encoder.layer.0.attention.output.LayerNorm.weight: requires_grad=True\n",
            "bert.encoder.layer.0.attention.output.LayerNorm.bias: requires_grad=True\n",
            "bert.encoder.layer.0.intermediate.dense.weight: requires_grad=True\n",
            "bert.encoder.layer.0.intermediate.dense.bias: requires_grad=True\n",
            "bert.encoder.layer.0.output.dense.weight: requires_grad=True\n",
            "bert.encoder.layer.0.output.dense.bias: requires_grad=True\n",
            "bert.encoder.layer.0.output.LayerNorm.weight: requires_grad=True\n",
            "bert.encoder.layer.0.output.LayerNorm.bias: requires_grad=True\n",
            "bert.encoder.layer.1.attention.self.query.weight: requires_grad=True\n",
            "bert.encoder.layer.1.attention.self.query.bias: requires_grad=True\n",
            "bert.encoder.layer.1.attention.self.key.weight: requires_grad=True\n",
            "bert.encoder.layer.1.attention.self.key.bias: requires_grad=True\n",
            "bert.encoder.layer.1.attention.self.value.weight: requires_grad=True\n",
            "bert.encoder.layer.1.attention.self.value.bias: requires_grad=True\n",
            "bert.encoder.layer.1.attention.output.dense.weight: requires_grad=True\n",
            "bert.encoder.layer.1.attention.output.dense.bias: requires_grad=True\n",
            "bert.encoder.layer.1.attention.output.LayerNorm.weight: requires_grad=True\n",
            "bert.encoder.layer.1.attention.output.LayerNorm.bias: requires_grad=True\n",
            "bert.encoder.layer.1.intermediate.dense.weight: requires_grad=True\n",
            "bert.encoder.layer.1.intermediate.dense.bias: requires_grad=True\n",
            "bert.encoder.layer.1.output.dense.weight: requires_grad=True\n",
            "bert.encoder.layer.1.output.dense.bias: requires_grad=True\n",
            "bert.encoder.layer.1.output.LayerNorm.weight: requires_grad=True\n",
            "bert.encoder.layer.1.output.LayerNorm.bias: requires_grad=True\n",
            "bert.encoder.layer.2.attention.self.query.weight: requires_grad=True\n",
            "bert.encoder.layer.2.attention.self.query.bias: requires_grad=True\n",
            "bert.encoder.layer.2.attention.self.key.weight: requires_grad=True\n",
            "bert.encoder.layer.2.attention.self.key.bias: requires_grad=True\n",
            "bert.encoder.layer.2.attention.self.value.weight: requires_grad=True\n",
            "bert.encoder.layer.2.attention.self.value.bias: requires_grad=True\n",
            "bert.encoder.layer.2.attention.output.dense.weight: requires_grad=True\n",
            "bert.encoder.layer.2.attention.output.dense.bias: requires_grad=True\n",
            "bert.encoder.layer.2.attention.output.LayerNorm.weight: requires_grad=True\n",
            "bert.encoder.layer.2.attention.output.LayerNorm.bias: requires_grad=True\n",
            "bert.encoder.layer.2.intermediate.dense.weight: requires_grad=True\n",
            "bert.encoder.layer.2.intermediate.dense.bias: requires_grad=True\n",
            "bert.encoder.layer.2.output.dense.weight: requires_grad=True\n",
            "bert.encoder.layer.2.output.dense.bias: requires_grad=True\n",
            "bert.encoder.layer.2.output.LayerNorm.weight: requires_grad=True\n",
            "bert.encoder.layer.2.output.LayerNorm.bias: requires_grad=True\n",
            "bert.encoder.layer.3.attention.self.query.weight: requires_grad=True\n",
            "bert.encoder.layer.3.attention.self.query.bias: requires_grad=True\n",
            "bert.encoder.layer.3.attention.self.key.weight: requires_grad=True\n",
            "bert.encoder.layer.3.attention.self.key.bias: requires_grad=True\n",
            "bert.encoder.layer.3.attention.self.value.weight: requires_grad=True\n",
            "bert.encoder.layer.3.attention.self.value.bias: requires_grad=True\n",
            "bert.encoder.layer.3.attention.output.dense.weight: requires_grad=True\n",
            "bert.encoder.layer.3.attention.output.dense.bias: requires_grad=True\n",
            "bert.encoder.layer.3.attention.output.LayerNorm.weight: requires_grad=True\n",
            "bert.encoder.layer.3.attention.output.LayerNorm.bias: requires_grad=True\n",
            "bert.encoder.layer.3.intermediate.dense.weight: requires_grad=True\n",
            "bert.encoder.layer.3.intermediate.dense.bias: requires_grad=True\n",
            "bert.encoder.layer.3.output.dense.weight: requires_grad=True\n",
            "bert.encoder.layer.3.output.dense.bias: requires_grad=True\n",
            "bert.encoder.layer.3.output.LayerNorm.weight: requires_grad=True\n",
            "bert.encoder.layer.3.output.LayerNorm.bias: requires_grad=True\n",
            "bert.encoder.layer.4.attention.self.query.weight: requires_grad=True\n",
            "bert.encoder.layer.4.attention.self.query.bias: requires_grad=True\n",
            "bert.encoder.layer.4.attention.self.key.weight: requires_grad=True\n",
            "bert.encoder.layer.4.attention.self.key.bias: requires_grad=True\n",
            "bert.encoder.layer.4.attention.self.value.weight: requires_grad=True\n",
            "bert.encoder.layer.4.attention.self.value.bias: requires_grad=True\n",
            "bert.encoder.layer.4.attention.output.dense.weight: requires_grad=True\n",
            "bert.encoder.layer.4.attention.output.dense.bias: requires_grad=True\n",
            "bert.encoder.layer.4.attention.output.LayerNorm.weight: requires_grad=True\n",
            "bert.encoder.layer.4.attention.output.LayerNorm.bias: requires_grad=True\n",
            "bert.encoder.layer.4.intermediate.dense.weight: requires_grad=True\n",
            "bert.encoder.layer.4.intermediate.dense.bias: requires_grad=True\n",
            "bert.encoder.layer.4.output.dense.weight: requires_grad=True\n",
            "bert.encoder.layer.4.output.dense.bias: requires_grad=True\n",
            "bert.encoder.layer.4.output.LayerNorm.weight: requires_grad=True\n",
            "bert.encoder.layer.4.output.LayerNorm.bias: requires_grad=True\n",
            "bert.encoder.layer.5.attention.self.query.weight: requires_grad=True\n",
            "bert.encoder.layer.5.attention.self.query.bias: requires_grad=True\n",
            "bert.encoder.layer.5.attention.self.key.weight: requires_grad=True\n",
            "bert.encoder.layer.5.attention.self.key.bias: requires_grad=True\n",
            "bert.encoder.layer.5.attention.self.value.weight: requires_grad=True\n",
            "bert.encoder.layer.5.attention.self.value.bias: requires_grad=True\n",
            "bert.encoder.layer.5.attention.output.dense.weight: requires_grad=True\n",
            "bert.encoder.layer.5.attention.output.dense.bias: requires_grad=True\n",
            "bert.encoder.layer.5.attention.output.LayerNorm.weight: requires_grad=True\n",
            "bert.encoder.layer.5.attention.output.LayerNorm.bias: requires_grad=True\n",
            "bert.encoder.layer.5.intermediate.dense.weight: requires_grad=True\n",
            "bert.encoder.layer.5.intermediate.dense.bias: requires_grad=True\n",
            "bert.encoder.layer.5.output.dense.weight: requires_grad=True\n",
            "bert.encoder.layer.5.output.dense.bias: requires_grad=True\n",
            "bert.encoder.layer.5.output.LayerNorm.weight: requires_grad=True\n",
            "bert.encoder.layer.5.output.LayerNorm.bias: requires_grad=True\n",
            "bert.encoder.layer.6.attention.self.query.weight: requires_grad=True\n",
            "bert.encoder.layer.6.attention.self.query.bias: requires_grad=True\n",
            "bert.encoder.layer.6.attention.self.key.weight: requires_grad=True\n",
            "bert.encoder.layer.6.attention.self.key.bias: requires_grad=True\n",
            "bert.encoder.layer.6.attention.self.value.weight: requires_grad=True\n",
            "bert.encoder.layer.6.attention.self.value.bias: requires_grad=True\n",
            "bert.encoder.layer.6.attention.output.dense.weight: requires_grad=True\n",
            "bert.encoder.layer.6.attention.output.dense.bias: requires_grad=True\n",
            "bert.encoder.layer.6.attention.output.LayerNorm.weight: requires_grad=True\n",
            "bert.encoder.layer.6.attention.output.LayerNorm.bias: requires_grad=True\n",
            "bert.encoder.layer.6.intermediate.dense.weight: requires_grad=True\n",
            "bert.encoder.layer.6.intermediate.dense.bias: requires_grad=True\n",
            "bert.encoder.layer.6.output.dense.weight: requires_grad=True\n",
            "bert.encoder.layer.6.output.dense.bias: requires_grad=True\n",
            "bert.encoder.layer.6.output.LayerNorm.weight: requires_grad=True\n",
            "bert.encoder.layer.6.output.LayerNorm.bias: requires_grad=True\n",
            "bert.encoder.layer.7.attention.self.query.weight: requires_grad=True\n",
            "bert.encoder.layer.7.attention.self.query.bias: requires_grad=True\n",
            "bert.encoder.layer.7.attention.self.key.weight: requires_grad=True\n",
            "bert.encoder.layer.7.attention.self.key.bias: requires_grad=True\n",
            "bert.encoder.layer.7.attention.self.value.weight: requires_grad=True\n",
            "bert.encoder.layer.7.attention.self.value.bias: requires_grad=True\n",
            "bert.encoder.layer.7.attention.output.dense.weight: requires_grad=True\n",
            "bert.encoder.layer.7.attention.output.dense.bias: requires_grad=True\n",
            "bert.encoder.layer.7.attention.output.LayerNorm.weight: requires_grad=True\n",
            "bert.encoder.layer.7.attention.output.LayerNorm.bias: requires_grad=True\n",
            "bert.encoder.layer.7.intermediate.dense.weight: requires_grad=True\n",
            "bert.encoder.layer.7.intermediate.dense.bias: requires_grad=True\n",
            "bert.encoder.layer.7.output.dense.weight: requires_grad=True\n",
            "bert.encoder.layer.7.output.dense.bias: requires_grad=True\n",
            "bert.encoder.layer.7.output.LayerNorm.weight: requires_grad=True\n",
            "bert.encoder.layer.7.output.LayerNorm.bias: requires_grad=True\n",
            "bert.encoder.layer.8.attention.self.query.weight: requires_grad=True\n",
            "bert.encoder.layer.8.attention.self.query.bias: requires_grad=True\n",
            "bert.encoder.layer.8.attention.self.key.weight: requires_grad=True\n",
            "bert.encoder.layer.8.attention.self.key.bias: requires_grad=True\n",
            "bert.encoder.layer.8.attention.self.value.weight: requires_grad=True\n",
            "bert.encoder.layer.8.attention.self.value.bias: requires_grad=True\n",
            "bert.encoder.layer.8.attention.output.dense.weight: requires_grad=True\n",
            "bert.encoder.layer.8.attention.output.dense.bias: requires_grad=True\n",
            "bert.encoder.layer.8.attention.output.LayerNorm.weight: requires_grad=True\n",
            "bert.encoder.layer.8.attention.output.LayerNorm.bias: requires_grad=True\n",
            "bert.encoder.layer.8.intermediate.dense.weight: requires_grad=True\n",
            "bert.encoder.layer.8.intermediate.dense.bias: requires_grad=True\n",
            "bert.encoder.layer.8.output.dense.weight: requires_grad=True\n",
            "bert.encoder.layer.8.output.dense.bias: requires_grad=True\n",
            "bert.encoder.layer.8.output.LayerNorm.weight: requires_grad=True\n",
            "bert.encoder.layer.8.output.LayerNorm.bias: requires_grad=True\n",
            "bert.encoder.layer.9.attention.self.query.weight: requires_grad=True\n",
            "bert.encoder.layer.9.attention.self.query.bias: requires_grad=True\n",
            "bert.encoder.layer.9.attention.self.key.weight: requires_grad=True\n",
            "bert.encoder.layer.9.attention.self.key.bias: requires_grad=True\n",
            "bert.encoder.layer.9.attention.self.value.weight: requires_grad=True\n",
            "bert.encoder.layer.9.attention.self.value.bias: requires_grad=True\n",
            "bert.encoder.layer.9.attention.output.dense.weight: requires_grad=True\n",
            "bert.encoder.layer.9.attention.output.dense.bias: requires_grad=True\n",
            "bert.encoder.layer.9.attention.output.LayerNorm.weight: requires_grad=True\n",
            "bert.encoder.layer.9.attention.output.LayerNorm.bias: requires_grad=True\n",
            "bert.encoder.layer.9.intermediate.dense.weight: requires_grad=True\n",
            "bert.encoder.layer.9.intermediate.dense.bias: requires_grad=True\n",
            "bert.encoder.layer.9.output.dense.weight: requires_grad=True\n",
            "bert.encoder.layer.9.output.dense.bias: requires_grad=True\n",
            "bert.encoder.layer.9.output.LayerNorm.weight: requires_grad=True\n",
            "bert.encoder.layer.9.output.LayerNorm.bias: requires_grad=True\n",
            "bert.encoder.layer.10.attention.self.query.weight: requires_grad=True\n",
            "bert.encoder.layer.10.attention.self.query.bias: requires_grad=True\n",
            "bert.encoder.layer.10.attention.self.key.weight: requires_grad=True\n",
            "bert.encoder.layer.10.attention.self.key.bias: requires_grad=True\n",
            "bert.encoder.layer.10.attention.self.value.weight: requires_grad=True\n",
            "bert.encoder.layer.10.attention.self.value.bias: requires_grad=True\n",
            "bert.encoder.layer.10.attention.output.dense.weight: requires_grad=True\n",
            "bert.encoder.layer.10.attention.output.dense.bias: requires_grad=True\n",
            "bert.encoder.layer.10.attention.output.LayerNorm.weight: requires_grad=True\n",
            "bert.encoder.layer.10.attention.output.LayerNorm.bias: requires_grad=True\n",
            "bert.encoder.layer.10.intermediate.dense.weight: requires_grad=True\n",
            "bert.encoder.layer.10.intermediate.dense.bias: requires_grad=True\n",
            "bert.encoder.layer.10.output.dense.weight: requires_grad=True\n",
            "bert.encoder.layer.10.output.dense.bias: requires_grad=True\n",
            "bert.encoder.layer.10.output.LayerNorm.weight: requires_grad=True\n",
            "bert.encoder.layer.10.output.LayerNorm.bias: requires_grad=True\n",
            "bert.encoder.layer.11.attention.self.query.weight: requires_grad=True\n",
            "bert.encoder.layer.11.attention.self.query.bias: requires_grad=True\n",
            "bert.encoder.layer.11.attention.self.key.weight: requires_grad=True\n",
            "bert.encoder.layer.11.attention.self.key.bias: requires_grad=True\n",
            "bert.encoder.layer.11.attention.self.value.weight: requires_grad=True\n",
            "bert.encoder.layer.11.attention.self.value.bias: requires_grad=True\n",
            "bert.encoder.layer.11.attention.output.dense.weight: requires_grad=True\n",
            "bert.encoder.layer.11.attention.output.dense.bias: requires_grad=True\n",
            "bert.encoder.layer.11.attention.output.LayerNorm.weight: requires_grad=True\n",
            "bert.encoder.layer.11.attention.output.LayerNorm.bias: requires_grad=True\n",
            "bert.encoder.layer.11.intermediate.dense.weight: requires_grad=True\n",
            "bert.encoder.layer.11.intermediate.dense.bias: requires_grad=True\n",
            "bert.encoder.layer.11.output.dense.weight: requires_grad=True\n",
            "bert.encoder.layer.11.output.dense.bias: requires_grad=True\n",
            "bert.encoder.layer.11.output.LayerNorm.weight: requires_grad=True\n",
            "bert.encoder.layer.11.output.LayerNorm.bias: requires_grad=True\n",
            "bert.pooler.dense.weight: requires_grad=True\n",
            "bert.pooler.dense.bias: requires_grad=True\n",
            "classifier.weight: requires_grad=True\n",
            "classifier.bias: requires_grad=True\n"
          ]
        }
      ],
      "source": [
        "for name, param in model.named_parameters():\n",
        "    print(f\"{name}: requires_grad={param.requires_grad}\")\n",
        "    '''\n",
        "    It print:\n",
        "    classifier.weight: requires_grad=True\n",
        "    classifier.bias: requires_grad=True\n",
        "    '''"
      ]
    },
    {
      "cell_type": "code",
      "execution_count": 552,
      "metadata": {},
      "outputs": [
        {
          "name": "stdout",
          "output_type": "stream",
          "text": [
            "Total parameters: 109484547\n",
            "Trainable parameters: 109484547\n"
          ]
        }
      ],
      "source": [
        "def count_parameters(model):\n",
        "    total_params = sum(p.numel() for p in model.parameters())\n",
        "    trainable_params = sum(p.numel() for p in model.parameters() if p.requires_grad)\n",
        "    print(f\"Total parameters: {total_params}\")\n",
        "    print(f\"Trainable parameters: {trainable_params}\")\n",
        "\n",
        "count_parameters(model)"
      ]
    },
    {
      "cell_type": "code",
      "execution_count": 553,
      "metadata": {},
      "outputs": [
        {
          "name": "stdout",
          "output_type": "stream",
          "text": [
            "BERT backbone:\n",
            "Total parameters: 109482240\n",
            "Trainable parameters: 109482240\n",
            "Classifier head:\n",
            "Total parameters: 2307\n",
            "Trainable parameters: 2307\n"
          ]
        }
      ],
      "source": [
        "print(\"BERT backbone:\")\n",
        "count_parameters(model.bert)\n",
        "\n",
        "print(\"Classifier head:\")\n",
        "count_parameters(model.classifier)"
      ]
    },
    {
      "cell_type": "code",
      "execution_count": 554,
      "metadata": {},
      "outputs": [
        {
          "data": {
            "text/plain": [
              "BertConfig {\n",
              "  \"_attn_implementation_autoset\": true,\n",
              "  \"architectures\": [\n",
              "    \"BertForMaskedLM\"\n",
              "  ],\n",
              "  \"attention_probs_dropout_prob\": 0.1,\n",
              "  \"classifier_dropout\": null,\n",
              "  \"gradient_checkpointing\": false,\n",
              "  \"hidden_act\": \"gelu\",\n",
              "  \"hidden_dropout_prob\": 0.1,\n",
              "  \"hidden_size\": 768,\n",
              "  \"id2label\": {\n",
              "    \"0\": \"LABEL_0\",\n",
              "    \"1\": \"LABEL_1\",\n",
              "    \"2\": \"LABEL_2\"\n",
              "  },\n",
              "  \"initializer_range\": 0.02,\n",
              "  \"intermediate_size\": 3072,\n",
              "  \"label2id\": {\n",
              "    \"LABEL_0\": 0,\n",
              "    \"LABEL_1\": 1,\n",
              "    \"LABEL_2\": 2\n",
              "  },\n",
              "  \"layer_norm_eps\": 1e-12,\n",
              "  \"max_position_embeddings\": 512,\n",
              "  \"model_type\": \"bert\",\n",
              "  \"num_attention_heads\": 12,\n",
              "  \"num_hidden_layers\": 12,\n",
              "  \"pad_token_id\": 0,\n",
              "  \"position_embedding_type\": \"absolute\",\n",
              "  \"torch_dtype\": \"float32\",\n",
              "  \"transformers_version\": \"4.51.3\",\n",
              "  \"type_vocab_size\": 2,\n",
              "  \"use_cache\": true,\n",
              "  \"vocab_size\": 30522\n",
              "}"
            ]
          },
          "execution_count": 554,
          "metadata": {},
          "output_type": "execute_result"
        }
      ],
      "source": [
        "model.config"
      ]
    },
    {
      "cell_type": "markdown",
      "metadata": {},
      "source": [
        "### Define the train, val, test workflow."
      ]
    },
    {
      "cell_type": "code",
      "execution_count": 555,
      "metadata": {},
      "outputs": [],
      "source": [
        "from tqdm import tqdm\n",
        "# train and val func for one epoch\n",
        "def train_epoch(train_dataloader, model):\n",
        "    train_loss = 0.0\n",
        "    train_acc = 0.0\n",
        "    model.train()\n",
        "    for ids, mask, token_type_ids, y in tqdm(train_dataloader):\n",
        "        ids, mask, token_type_ids, y = ids.to(device), mask.to(device), token_type_ids.to(device), y.to(device)\n",
        "        # clear gradients\n",
        "        optimizer.zero_grad()\n",
        "        # predicting\n",
        "        output = model(\n",
        "            input_ids = ids,\n",
        "            attention_mask = mask,\n",
        "            token_type_ids = token_type_ids \n",
        "        )\n",
        "        # print(output.keys()) # odict_keys(['logits']), it shows the result can be accessed by 'logits'\n",
        "        # print(output.logits)\n",
        "        # print(output.logits.shape) # (Batch_size, num_labels)\n",
        "        # see loss\n",
        "        loss = criterion(output.logits, y)\n",
        "        loss.backward()\n",
        "        \n",
        "        # update the parameters\n",
        "        optimizer.step()\n",
        "\n",
        "        train_loss += loss.item()\n",
        "        probs = torch.nn.functional.softmax(output.logits, dim=1)\n",
        "        train_acc += torch.sum(torch.argmax(probs, dim=1) == y).item()\n",
        "    return train_acc / len(train_dataloader.dataset), train_loss / len(train_dataloader.dataset)\n",
        "\n",
        "def val_epoch(val_dataloader, model):\n",
        "    val_loss = 0.0\n",
        "    val_acc = 0.0\n",
        "    model.eval()\n",
        "    with torch.no_grad():\n",
        "        for ids, mask, token_type_ids, y in tqdm(val_dataloader):\n",
        "            ids, mask, token_type_ids, y = ids.to(device), mask.to(device), token_type_ids.to(device), y.to(device)\n",
        "            # predicting\n",
        "            output = model(\n",
        "                input_ids = ids,\n",
        "                attention_mask = mask,\n",
        "                token_type_ids = token_type_ids \n",
        "            )\n",
        "            # see loss\n",
        "            loss = criterion(output.logits, y)\n",
        "\n",
        "            val_loss += loss.item()\n",
        "            probs = torch.nn.functional.softmax(output.logits, dim=1)\n",
        "            val_acc += torch.sum(torch.argmax(probs, dim=1) == y).item()\n",
        "    return val_acc / len(val_dataloader.dataset), val_loss / len(val_dataloader.dataset)\n",
        "\n",
        "def test(test_dataloader, model, type=\"test\"):\n",
        "    pred_labels = []\n",
        "    total_probs = []\n",
        "    true_labels = [] # for testing train dataset\n",
        "    model.eval()\n",
        "    with torch.no_grad():\n",
        "        if type == \"test\": # Don't have gorund truth\n",
        "            for ids, mask, token_type_ids, _ in tqdm(test_dataloader):\n",
        "                ids, mask, token_type_ids = ids.to(device), mask.to(device), token_type_ids.to(device)\n",
        "                # predicting\n",
        "                output = model(\n",
        "                    input_ids = ids,\n",
        "                    attention_mask = mask,\n",
        "                    token_type_ids = token_type_ids \n",
        "                )\n",
        "                probs = torch.nn.functional.softmax(output.logits, dim=1)\n",
        "                pred_labels.extend(torch.argmax(probs, dim=1).cpu().tolist())\n",
        "            return pred_labels\n",
        "\n",
        "        else:\n",
        "            for ids, mask, token_type_ids, y in tqdm(test_dataloader):\n",
        "                ids, mask, token_type_ids, y = ids.to(device), mask.to(device), token_type_ids.to(device), y.to(device)\n",
        "                # predicting\n",
        "                output = model(\n",
        "                    input_ids = ids,\n",
        "                    attention_mask = mask,\n",
        "                    token_type_ids = token_type_ids \n",
        "                )\n",
        "                probs = torch.nn.functional.softmax(output.logits, dim=1)\n",
        "                total_probs.append(probs)\n",
        "                pred_labels.extend(torch.argmax(probs, dim=1).cpu().tolist())\n",
        "                true_labels.extend(y.cpu().tolist())\n",
        "            return torch.cat(total_probs, dim=0), pred_labels, true_labels"
      ]
    },
    {
      "cell_type": "code",
      "execution_count": 556,
      "metadata": {},
      "outputs": [],
      "source": [
        "def plt_loss_accuracy_fig(Total_training_loss, Total_validation_loss, Total_training_accuracy, Total_validation_accuracy):\n",
        "    # visualization the loss and accuracy\n",
        "    plt.figure()\n",
        "    plt.plot(range(len(Total_training_loss)), Total_training_loss, 'b-', label='Training_loss')\n",
        "    plt.plot(range(len(Total_validation_loss)), Total_validation_loss, 'g-', label='validation_loss')\n",
        "    plt.title('Training & Validation loss')\n",
        "    plt.xlabel('No. of epochs')\n",
        "    plt.ylabel('Loss')\n",
        "    plt.legend()\n",
        "    plt.show()\n",
        "\n",
        "    plt.figure()\n",
        "    plt.plot(range(len(Total_training_accuracy)), Total_training_accuracy, 'r-', label='Training_accuracy')\n",
        "    plt.plot(range(len(Total_validation_accuracy)), Total_validation_accuracy, 'y-', label='Validation_accuracy')\n",
        "    plt.title('Training & Validation accuracy')\n",
        "    plt.xlabel('No. of epochs')\n",
        "    plt.ylabel('Accuracy')\n",
        "    plt.legend()\n",
        "    plt.show()"
      ]
    },
    {
      "cell_type": "code",
      "execution_count": 557,
      "metadata": {},
      "outputs": [],
      "source": [
        "def plot_confusion_matrix(pred_labels, true_labels, num_classes=len(LABELS)):\n",
        "    # Compute confusion matrix\n",
        "    cm = confusion_matrix(true_labels, pred_labels, labels=np.arange(num_classes))\n",
        "\n",
        "    # Plot the confusion matrix using seaborn heatmap\n",
        "    plt.figure(figsize=(4, 4))\n",
        "    sns.heatmap(cm, annot=True, fmt='g', cmap='Reds', xticklabels=np.arange(num_classes), yticklabels=np.arange(num_classes))\n",
        "\n",
        "    # Add labels and title\n",
        "    plt.xlabel('Predicted Label')\n",
        "    plt.ylabel('True Label')\n",
        "    plt.title('Confusion Matrix')\n",
        "    plt.show()"
      ]
    },
    {
      "cell_type": "markdown",
      "metadata": {},
      "source": [
        "### Start Training...\n",
        "#### Train on train_dataset and see predicted result on val_dataset(test_dataset)."
      ]
    },
    {
      "cell_type": "code",
      "execution_count": 558,
      "metadata": {},
      "outputs": [
        {
          "name": "stderr",
          "output_type": "stream",
          "text": [
            "100%|██████████| 26/26 [00:04<00:00,  5.37it/s]\n",
            "100%|██████████| 11/11 [00:00<00:00, 20.02it/s]\n"
          ]
        },
        {
          "name": "stdout",
          "output_type": "stream",
          "text": [
            "Epoch[ 1/ 8] : train_acc = 0.7181, train_loss = 0.0428, val_acc = 0.9091, val_loss = 0.0178\n",
            "\t\u001b[33m====Save model parameters in BERT_FINETUNE_sentiment_classifier.pth when val_acc is 0.9091====\u001b[0m\n"
          ]
        },
        {
          "name": "stderr",
          "output_type": "stream",
          "text": [
            "100%|██████████| 26/26 [00:04<00:00,  5.39it/s]\n",
            "100%|██████████| 11/11 [00:00<00:00, 20.27it/s]\n"
          ]
        },
        {
          "name": "stdout",
          "output_type": "stream",
          "text": [
            "Epoch[ 2/ 8] : train_acc = 0.9510, train_loss = 0.0128, val_acc = 0.8977, val_loss = 0.0186\n"
          ]
        },
        {
          "name": "stderr",
          "output_type": "stream",
          "text": [
            "100%|██████████| 26/26 [00:04<00:00,  6.43it/s]\n",
            "100%|██████████| 11/11 [00:00<00:00, 22.02it/s]\n"
          ]
        },
        {
          "name": "stdout",
          "output_type": "stream",
          "text": [
            "Epoch[ 3/ 8] : train_acc = 0.9755, train_loss = 0.0058, val_acc = 0.9545, val_loss = 0.0093\n",
            "\t\u001b[33m====Save model parameters in BERT_FINETUNE_sentiment_classifier.pth when val_acc is 0.9545====\u001b[0m\n"
          ]
        },
        {
          "name": "stderr",
          "output_type": "stream",
          "text": [
            "100%|██████████| 26/26 [00:04<00:00,  5.38it/s]\n",
            "100%|██████████| 11/11 [00:00<00:00, 20.28it/s]\n"
          ]
        },
        {
          "name": "stdout",
          "output_type": "stream",
          "text": [
            "Epoch[ 4/ 8] : train_acc = 0.9632, train_loss = 0.0085, val_acc = 0.9261, val_loss = 0.0121\n"
          ]
        },
        {
          "name": "stderr",
          "output_type": "stream",
          "text": [
            "100%|██████████| 26/26 [00:03<00:00,  6.97it/s]\n",
            "100%|██████████| 11/11 [00:00<00:00, 23.13it/s]\n"
          ]
        },
        {
          "name": "stdout",
          "output_type": "stream",
          "text": [
            "Epoch[ 5/ 8] : train_acc = 0.9828, train_loss = 0.0031, val_acc = 0.9602, val_loss = 0.0077\n",
            "\t\u001b[33m====Save model parameters in BERT_FINETUNE_sentiment_classifier.pth when val_acc is 0.9602====\u001b[0m\n"
          ]
        },
        {
          "name": "stderr",
          "output_type": "stream",
          "text": [
            "100%|██████████| 26/26 [00:04<00:00,  5.77it/s]\n",
            "100%|██████████| 11/11 [00:00<00:00, 21.12it/s]\n"
          ]
        },
        {
          "name": "stdout",
          "output_type": "stream",
          "text": [
            "Epoch[ 6/ 8] : train_acc = 0.9975, train_loss = 0.0005, val_acc = 0.9716, val_loss = 0.0057\n",
            "\t\u001b[33m====Save model parameters in BERT_FINETUNE_sentiment_classifier.pth when val_acc is 0.9716====\u001b[0m\n"
          ]
        },
        {
          "name": "stderr",
          "output_type": "stream",
          "text": [
            "100%|██████████| 26/26 [00:04<00:00,  5.99it/s]\n",
            "100%|██████████| 11/11 [00:00<00:00, 20.71it/s]\n"
          ]
        },
        {
          "name": "stdout",
          "output_type": "stream",
          "text": [
            "Epoch[ 7/ 8] : train_acc = 1.0000, train_loss = 0.0001, val_acc = 0.9773, val_loss = 0.0057\n",
            "\t\u001b[33m====Save model parameters in BERT_FINETUNE_sentiment_classifier.pth when val_acc is 0.9773====\u001b[0m\n"
          ]
        },
        {
          "name": "stderr",
          "output_type": "stream",
          "text": [
            "100%|██████████| 26/26 [00:04<00:00,  5.87it/s]\n",
            "100%|██████████| 11/11 [00:00<00:00, 20.28it/s]\n"
          ]
        },
        {
          "name": "stdout",
          "output_type": "stream",
          "text": [
            "Epoch[ 8/ 8] : train_acc = 1.0000, train_loss = 0.0001, val_acc = 0.9773, val_loss = 0.0059\n",
            "\t\u001b[92m====Save FINAL model parameters in BERT_FINETUNE_sentiment_classifier_final_epoch.pth====\u001b[0m\n"
          ]
        }
      ],
      "source": [
        "# Start training and testing\n",
        "max_accuracy = 0\n",
        "# For ploting the trend image\n",
        "total_train_acc = []\n",
        "total_val_acc = []\n",
        "total_train_loss = []\n",
        "total_val_loss = []\n",
        "for i in range(NUM_EPOCHS):\n",
        "    train_acc, train_loss = train_epoch(train_dataloader, model)\n",
        "    val_acc, val_loss = val_epoch(val_dataloader, model)\n",
        "    # record the training data\n",
        "    total_train_acc.append(train_acc)\n",
        "    total_val_acc.append(val_acc)\n",
        "\n",
        "    total_train_loss.append(train_loss)\n",
        "    total_val_loss.append(val_loss)\n",
        "\n",
        "    print(\"Epoch[{:>2d}/{:>2d}] : train_acc = {:.4f}, train_loss = {:.4f}, val_acc = {:.4f}, val_loss = {:.4f}\".format(i+1, NUM_EPOCHS, train_acc, train_loss, val_acc, val_loss))\n",
        "    # update model pth when larger val_acc happens\n",
        "    if(val_acc > max_accuracy):\n",
        "        max_accuracy = val_acc\n",
        "        save_parameters = True\n",
        "        if save_parameters:\n",
        "            path = 'BERT_FINETUNE_sentiment_classifier.pth'\n",
        "            torch.save(model.state_dict(), path)\n",
        "            print(\"\\t\\33[33m====Save model parameters in {:s} when val_acc is {:.4f}====\\33[0m\".format(path, val_acc))\n",
        "\n",
        "# save the final epoch's model\n",
        "path = 'BERT_FINETUNE_sentiment_classifier_final_epoch.pth'\n",
        "torch.save(model.state_dict(), path)\n",
        "print(\"\\t\\33[92m====Save FINAL model parameters in {:s}====\\33[0m\".format(path))"
      ]
    },
    {
      "cell_type": "code",
      "execution_count": 559,
      "metadata": {},
      "outputs": [
        {
          "data": {
            "image/png": "[encoded data removed]",
            "text/plain": [
              "<Figure size 640x480 with 1 Axes>"
            ]
          },
          "metadata": {},
          "output_type": "display_data"
        },
        {
          "data": {
            "image/png": "[encoded data removed]",
            "text/plain": [
              "<Figure size 640x480 with 1 Axes>"
            ]
          },
          "metadata": {},
          "output_type": "display_data"
        }
      ],
      "source": [
        "plt_loss_accuracy_fig(total_train_loss, total_val_loss, total_train_acc, total_val_acc)"
      ]
    },
    {
      "cell_type": "markdown",
      "metadata": {},
      "source": [
        "### Test on test dataset. Present the confusion matrix based on the test results."
      ]
    },
    {
      "cell_type": "code",
      "execution_count": 561,
      "metadata": {},
      "outputs": [
        {
          "name": "stdout",
          "output_type": "stream",
          "text": [
            "Load pth from BERT_FINETUNE_sentiment_classifier.pth\n"
          ]
        },
        {
          "name": "stderr",
          "output_type": "stream",
          "text": [
            "100%|██████████| 11/11 [00:00<00:00, 14.29it/s]"
          ]
        },
        {
          "name": "stdout",
          "output_type": "stream",
          "text": [
            "Top-1 Accuracy: 0.9773\n"
          ]
        },
        {
          "name": "stderr",
          "output_type": "stream",
          "text": [
            "\n"
          ]
        },
        {
          "data": {
            "image/png": "[encoded data removed]",
            "text/plain": [
              "<Figure size 400x400 with 2 Axes>"
            ]
          },
          "metadata": {},
          "output_type": "display_data"
        }
      ],
      "source": [
        "# Load back the model\n",
        "model = BertForSequenceClassification.from_pretrained(PRETRAINED_MODEL_NAME, num_labels=len(LABELS)).to(device)\n",
        "clear_output()\n",
        "pth_path = 'BERT_FINETUNE_sentiment_classifier.pth'\n",
        "state_dict = torch.load(pth_path)\n",
        "model.load_state_dict(state_dict)\n",
        "print(f\"Load pth from {pth_path}\")\n",
        "\n",
        "total_val_probs, val_pred_labels, true_labels = test(val_dataloader, model, type=\"val\")\n",
        "\n",
        "top_1_acc = 0.0\n",
        "num_samples = len(true_labels)\n",
        "\n",
        "for probs, label in zip(total_val_probs, true_labels):\n",
        "    # Get top 3 predictions\n",
        "    top3_probs, top3_indices = torch.topk(probs, 3, dim=0, largest=True, sorted=True)\n",
        "\n",
        "    # Top-1 accuracy: if the top-1 predicted class matches the true label\n",
        "    if top3_indices[0] == label:\n",
        "        top_1_acc += 1\n",
        "\n",
        "\n",
        "# Calculate the final accuracy\n",
        "top_1_acc /= num_samples\n",
        "\n",
        "print(f\"Top-1 Accuracy: {top_1_acc:.4f}\")\n",
        "plot_confusion_matrix(val_pred_labels, true_labels)"
      ]
    }
  ],
  "metadata": {
    "accelerator": "GPU",
    "colab": {
      "provenance": []
    },
    "kernelspec": {
      "display_name": "g_project_env1",
      "language": "python",
      "name": "python3"
    },
    "language_info": {
      "codemirror_mode": {
        "name": "ipython",
        "version": 3
      },
      "file_extension": ".py",
      "mimetype": "text/x-python",
      "name": "python",
      "nbconvert_exporter": "python",
      "pygments_lexer": "ipython3",
      "version": "3.11.7"
    }
  },
  "nbformat": 4,
  "nbformat_minor": 0
}
