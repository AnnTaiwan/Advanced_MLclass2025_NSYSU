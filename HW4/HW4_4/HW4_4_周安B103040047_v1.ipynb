{
 "cells": [
  {
   "cell_type": "markdown",
   "id": "df746563",
   "metadata": {},
   "source": [
    "## 進階機器學習 HW4-4\n",
    "### Implement a simple question-answering (QA) system using the Chroma vector database. Provide a brief demonstration of its functionality. \n",
    "* 學號: B103040047\n",
    "* 姓名: 周安"
   ]
  },
  {
   "cell_type": "markdown",
   "id": "d9a3c9ef",
   "metadata": {},
   "source": [
    "### ChromaDB function: \n",
    "embedding function + store + similarity search"
   ]
  },
  {
   "cell_type": "markdown",
   "id": "a90f4cc3",
   "metadata": {},
   "source": [
    "### Create a local DB in this directory, and a collection (like a datasheet in DB)"
   ]
  },
  {
   "cell_type": "code",
   "execution_count": 26,
   "id": "e515f049",
   "metadata": {},
   "outputs": [],
   "source": [
    "import chromadb\n",
    "# client = chromadb.Client() # In-memory DB\n",
    "client = chromadb.PersistentClient(path=\"HW4_4_db/\")"
   ]
  },
  {
   "cell_type": "code",
   "execution_count": 172,
   "id": "2e02a3df",
   "metadata": {},
   "outputs": [
    {
     "data": {
      "text/plain": [
       "[Collection(name=IMDb_Movie_Reviews)]"
      ]
     },
     "execution_count": 172,
     "metadata": {},
     "output_type": "execute_result"
    }
   ],
   "source": [
    "client.list_collections()"
   ]
  },
  {
   "cell_type": "markdown",
   "id": "9653b33d",
   "metadata": {},
   "source": [
    "### Delete this collection and reinitialize the collection if you want to clean this collection.\n",
    "If user really wants to free some unused disk space, it should do the `VACUUM` to whole DB. "
   ]
  },
  {
   "cell_type": "code",
   "execution_count": null,
   "id": "8058ff84",
   "metadata": {},
   "outputs": [
    {
     "data": {
      "text/plain": [
       "[Collection(name=IMDb_Movie_Reviews)]"
      ]
     },
     "execution_count": 64,
     "metadata": {},
     "output_type": "execute_result"
    }
   ],
   "source": [
    "# client.delete_collection(name=\"IMDb_Movie_Reviews\")\n",
    "# client.list_collections()\n",
    "# client.delete_collection(name=\"IMDb_Movie_Reviews2\")\n",
    "# client.list_collections()"
   ]
  },
  {
   "cell_type": "markdown",
   "id": "c1a295ad",
   "metadata": {},
   "source": [
    "### Create Embedding function"
   ]
  },
  {
   "cell_type": "code",
   "execution_count": 66,
   "id": "054dec27",
   "metadata": {},
   "outputs": [],
   "source": [
    "from chromadb.config import Settings\n",
    "from chromadb.utils import embedding_functions\n",
    "from sentence_transformers import SentenceTransformer\n",
    "# download the model\n",
    "# embedding_model = SentenceTransformer(\"all-MiniLM-L6-v2\")\n",
    "embedding_model = SentenceTransformer(\"paraphrase-mpnet-base-v2\")\n",
    "embedding = embedding_model.encode(\"This is a test sentence.\")\n",
    "# print(embedding[:100])\n",
    "sentence_ef = embedding_functions.SentenceTransformerEmbeddingFunction(\n",
    "                    model_name=\"paraphrase-mpnet-base-v2\"\n",
    "                )"
   ]
  },
  {
   "cell_type": "markdown",
   "id": "d260e939",
   "metadata": {},
   "source": [
    "### Get the collection"
   ]
  },
  {
   "cell_type": "code",
   "execution_count": 67,
   "id": "22b1bc24",
   "metadata": {},
   "outputs": [
    {
     "name": "stdout",
     "output_type": "stream",
     "text": [
      "Number of record in this collection: 0\n"
     ]
    }
   ],
   "source": [
    "collection = client.get_or_create_collection(\"IMDb_Movie_Reviews\", embedding_function=sentence_ef)\n",
    "client.list_collections()\n",
    "print(\"Number of record in this collection:\", collection.count())"
   ]
  },
  {
   "cell_type": "markdown",
   "id": "f036439b",
   "metadata": {},
   "source": [
    "### Created Colloections detail\n",
    "#### IMDb_Movie_Reviews : include movie title , review, description\n",
    "* dataset resource: [IMDb Movie Reviews Genres Description and Emotions](https://www.kaggle.com/datasets/fahadrehman07/movie-reviews-and-emotion-dataset/data)\n",
    "---"
   ]
  },
  {
   "cell_type": "markdown",
   "id": "c3ca0d5d",
   "metadata": {},
   "source": [
    "### Preprocess the dataset.\n",
    "#### Columns description:\n",
    "* Rating: Indicates the score that critics have assigned to a film.\n",
    "* Reviews: Written analyses of the films that share thoughts and observations.\n",
    "* movie_name: The names or titles of the films that were examined for reviews.\n",
    "* Resenhas: Translations of reviews into other languages.\n",
    "* Genres: The division of films into various groups.\n",
    "* Descriptions: Written analyses of the films.\n",
    "* Emotions: Each description expresses an emotional tone.\n",
    "  \n",
    "#### Plan to do:\n",
    "* remove the `Resenhas` column.\n",
    "* Extract 1000 rows to add into DB.\n",
    "* Turn all fields into several documents for each entry.\n",
    "* apply some actions on each document:\n",
    "    * string is converted into lower case.\n",
    "    * delete redundant spaces\n",
    "    * Remove 'See full summary' and everything after it"
   ]
  },
  {
   "cell_type": "code",
   "execution_count": 68,
   "id": "a50a2477",
   "metadata": {},
   "outputs": [
    {
     "data": {
      "text/html": [
       "<div>\n",
       "<style scoped>\n",
       "    .dataframe tbody tr th:only-of-type {\n",
       "        vertical-align: middle;\n",
       "    }\n",
       "\n",
       "    .dataframe tbody tr th {\n",
       "        vertical-align: top;\n",
       "    }\n",
       "\n",
       "    .dataframe thead th {\n",
       "        text-align: right;\n",
       "    }\n",
       "</style>\n",
       "<table border=\"1\" class=\"dataframe\">\n",
       "  <thead>\n",
       "    <tr style=\"text-align: right;\">\n",
       "      <th></th>\n",
       "      <th>Ratings</th>\n",
       "      <th>Reviews</th>\n",
       "      <th>movie_name</th>\n",
       "      <th>genres</th>\n",
       "      <th>Description</th>\n",
       "      <th>emotion</th>\n",
       "    </tr>\n",
       "  </thead>\n",
       "  <tbody>\n",
       "    <tr>\n",
       "      <th>15696</th>\n",
       "      <td>10.0</td>\n",
       "      <td>Saw a advance screening of this on Friday nigh...</td>\n",
       "      <td>Wedding Crashers</td>\n",
       "      <td>['Comedy', 'Romance']</td>\n",
       "      <td>John Beckwith and Jeremy Grey, a pair of commi...</td>\n",
       "      <td>sadness</td>\n",
       "    </tr>\n",
       "    <tr>\n",
       "      <th>9014</th>\n",
       "      <td>2.0</td>\n",
       "      <td>Even with the awesome Harvey Keitel this movie...</td>\n",
       "      <td>The Last Man</td>\n",
       "      <td>['Comedy']</td>\n",
       "      <td>After a tour of duty in the Philippines, Major...</td>\n",
       "      <td>sadness</td>\n",
       "    </tr>\n",
       "    <tr>\n",
       "      <th>17350</th>\n",
       "      <td>7.0</td>\n",
       "      <td>I was fortunate enough to see this movie on pr...</td>\n",
       "      <td>The Guardian</td>\n",
       "      <td>['Action', 'Adventure', 'Drama']</td>\n",
       "      <td>The Guardian is a love story about an Olympic ...</td>\n",
       "      <td>sadness</td>\n",
       "    </tr>\n",
       "    <tr>\n",
       "      <th>7997</th>\n",
       "      <td>4.0</td>\n",
       "      <td>When a novel as renowned as Charles Dickens' G...</td>\n",
       "      <td>Obsession</td>\n",
       "      <td>['Drama', 'Thriller', 'Mystery']</td>\n",
       "      <td>A returning vet attending college falls in lov...</td>\n",
       "      <td>joy</td>\n",
       "    </tr>\n",
       "    <tr>\n",
       "      <th>21018</th>\n",
       "      <td>5.0</td>\n",
       "      <td>I went into \"Julie &amp; Julia\" with big expectati...</td>\n",
       "      <td>Julie &amp; Julia</td>\n",
       "      <td>['Romance', 'Drama']</td>\n",
       "      <td>Julia Child's story of her start in the cookin...</td>\n",
       "      <td>anticipation</td>\n",
       "    </tr>\n",
       "  </tbody>\n",
       "</table>\n",
       "</div>"
      ],
      "text/plain": [
       "       Ratings                                            Reviews  \\\n",
       "15696     10.0  Saw a advance screening of this on Friday nigh...   \n",
       "9014       2.0  Even with the awesome Harvey Keitel this movie...   \n",
       "17350      7.0  I was fortunate enough to see this movie on pr...   \n",
       "7997       4.0  When a novel as renowned as Charles Dickens' G...   \n",
       "21018      5.0  I went into \"Julie & Julia\" with big expectati...   \n",
       "\n",
       "             movie_name                            genres  \\\n",
       "15696  Wedding Crashers             ['Comedy', 'Romance']   \n",
       "9014       The Last Man                        ['Comedy']   \n",
       "17350      The Guardian  ['Action', 'Adventure', 'Drama']   \n",
       "7997          Obsession  ['Drama', 'Thriller', 'Mystery']   \n",
       "21018     Julie & Julia              ['Romance', 'Drama']   \n",
       "\n",
       "                                             Description       emotion  \n",
       "15696  John Beckwith and Jeremy Grey, a pair of commi...       sadness  \n",
       "9014   After a tour of duty in the Philippines, Major...       sadness  \n",
       "17350  The Guardian is a love story about an Olympic ...       sadness  \n",
       "7997   A returning vet attending college falls in lov...           joy  \n",
       "21018  Julia Child's story of her start in the cookin...  anticipation  "
      ]
     },
     "execution_count": 68,
     "metadata": {},
     "output_type": "execute_result"
    }
   ],
   "source": [
    "import pandas as pd\n",
    "\n",
    "\n",
    "# Load the CSV file\n",
    "df = pd.read_csv(\"Movies_Reviews_modified_version1.csv\")\n",
    "\n",
    "# Drop unnecessary columns\n",
    "df = df.drop(columns=['Unnamed: 0', 'Resenhas'])\n",
    "\n",
    "# Shuffle the dataframe and get 1000 rows, set the random state for reproducibility\n",
    "df_shuffled = df.sample(n=1000, random_state=45)\n",
    "\n",
    "# Display the shuffled dataframe\n",
    "df_shuffled.head()"
   ]
  },
  {
   "cell_type": "markdown",
   "id": "e5c08c42",
   "metadata": {},
   "source": [
    "#### Goal of preprcessing the input documents to DB:\n",
    "The goal of this code is to break down each row of a DataFrame (df) into individual components that will be added to a Chroma DB collection. The key components include:\n",
    "\n",
    "* Documents: Each row is split into a list of textual data (documents). These could be individual sentences or other pieces of information extracted from the row.\n",
    "\n",
    "* Metadatas: The metadata associated with each piece of data. Metadata can include any additional context or information about the data, such as its source, type, or any other properties relevant to the record.\n",
    "\n",
    "* IDs: A unique identifier (id) for each row of data, typically used to track the document in the database and retrieve it later."
   ]
  },
  {
   "cell_type": "code",
   "execution_count": 74,
   "id": "71c96281",
   "metadata": {},
   "outputs": [],
   "source": [
    "import re\n",
    "\n",
    "# Define the order of columns to be processed\n",
    "field_in_documents = [\"Description\", \"Reviews\", \"emotion\"]\n",
    "\n",
    "def clean_text(text):\n",
    "    \"\"\"\n",
    "    Clean and normalize a text string:\n",
    "    - Convert to lowercase\n",
    "    - Remove 'See full summary' and everything after it\n",
    "    - Remove extra whitespace and leading/trailing spaces\n",
    "    \"\"\"\n",
    "    text = str(text).lower()  # Convert text to lowercase\n",
    "    text = re.sub(r\"see full summary.*\", \"\", text)  # Remove 'See full summary' and following content\n",
    "    text = re.sub(r\"\\s+\", \" \", text).strip()  # Replace multiple spaces with one, and trim\n",
    "    return text\n",
    "\n",
    "def preprocess_row(row, doc_id):\n",
    "    \"\"\"\n",
    "    Process a single dataframe row:\n",
    "    - Clean each text field\n",
    "    - Prepare corresponding metadata for each field\n",
    "    - Assign unique IDs for each piece of content\n",
    "    Return:\n",
    "    - List of cleaned data (per field)\n",
    "    - List of metadata dictionaries (per field)\n",
    "    - List of document IDs (per field)\n",
    "    \"\"\"\n",
    "    data = []\n",
    "    metadata = []\n",
    "    id_str = []\n",
    "\n",
    "    for col_name in field_in_documents:\n",
    "        cleaned_text = clean_text(row[col_name])  # Clean text content\n",
    "        data.append(cleaned_text)\n",
    "\n",
    "        # Prepare metadata for this document piece\n",
    "        meta_dict = {\n",
    "            # \"source\": \"internal\",\n",
    "            \"name\": row[\"movie_name\"],\n",
    "            \"type\": col_name,\n",
    "            \"genre\": row[\"genres\"],\n",
    "            \"rating\": str(row[\"Ratings\"]),\n",
    "            \"doc_id\": f\"doc{doc_id}\"\n",
    "        }\n",
    "\n",
    "        metadata.append(meta_dict)\n",
    "        id_str.append(f\"doc{doc_id}_{col_name}\")  # Generate unique ID for this piece\n",
    "\n",
    "    return data, metadata, id_str"
   ]
  },
  {
   "cell_type": "code",
   "execution_count": 75,
   "id": "c8d4f738",
   "metadata": {},
   "outputs": [
    {
     "data": {
      "text/plain": [
       "1000"
      ]
     },
     "execution_count": 75,
     "metadata": {},
     "output_type": "execute_result"
    }
   ],
   "source": [
    "len(df_shuffled)"
   ]
  },
  {
   "cell_type": "markdown",
   "id": "34357b80",
   "metadata": {},
   "source": [
    "### Add data into DB."
   ]
  },
  {
   "cell_type": "code",
   "execution_count": 77,
   "id": "597ab140",
   "metadata": {},
   "outputs": [
    {
     "name": "stdout",
     "output_type": "stream",
     "text": [
      "Number of record in this collection: 3000\n"
     ]
    }
   ],
   "source": [
    "documents = []\n",
    "metadatas = []\n",
    "ids = []\n",
    "total_cases = len(df_shuffled)\n",
    "for index, row in df_shuffled.iterrows():\n",
    "    data, metadata, id_str = preprocess_row(row, index)\n",
    "    # prepare the db input\n",
    "    documents.extend(data)\n",
    "    metadatas.extend(metadata)\n",
    "    ids.extend(id_str)\n",
    "    # print(documents, metadatas, ids)\n",
    "    # break\n",
    "    # load into db every 32 cases of data\n",
    "    if index % 32 == 31 or index+1 == total_cases:\n",
    "        # add into collection\n",
    "        collection.add(\n",
    "            documents=documents,\n",
    "            metadatas=metadatas,\n",
    "            ids=ids\n",
    "        )\n",
    "        # clear the data for next round\n",
    "        documents = []\n",
    "        metadatas = []\n",
    "        ids = []\n",
    "print(\"Number of record in this collection:\", collection.count())"
   ]
  },
  {
   "cell_type": "code",
   "execution_count": 114,
   "id": "ab2e2130",
   "metadata": {},
   "outputs": [],
   "source": [
    "def pretty_print_results(results):\n",
    "    \"\"\"\n",
    "    Format and print query results in a readable way.\n",
    "    \"\"\"\n",
    "    if results:\n",
    "        print(f\"Found {len(results['documents'][0])} matching results:\\n\")\n",
    "        \n",
    "        for i, doc in enumerate(results['documents'][0]):\n",
    "            # Extract metadata for the current document (assuming it's a list of metadata dictionaries)\n",
    "            metadata = results['metadatas'][0][i]  # Metadata is inside a list\n",
    "            \n",
    "            print(f\"Result {i+1}:\")\n",
    "            print(f\"  Movie Name: {metadata.get('name', 'N/A')}\")\n",
    "            print(f\"  \\033[96mType: {metadata.get('type', 'N/A')}\\033[0m\")\n",
    "            print(f\"  Genre: {metadata.get('genre', 'N/A')}\")\n",
    "            print(f\"  Rating: {metadata.get('rating', 'N/A')}\")\n",
    "            print(f\"  doc_id: {metadata.get('doc_id', 'N/A')}\")\n",
    "            print(f\"  \\033[93mDocument: {doc}\\033[0m\")\n",
    "            print(f\"  Distance: {results['distances'][0][i]:.4f}\")  # Print similarity distance\n",
    "            print('-' * 50)\n",
    "    else:\n",
    "        print(\"No results found.\")\n"
   ]
  },
  {
   "cell_type": "markdown",
   "id": "972b0964",
   "metadata": {},
   "source": [
    "## After finish creating the DB, it can start to query this db.\n",
    "---\n",
    "從資料集取出1000筆資料放入資料庫，此資料集具有以下幾種類別:**\"movie_name\", \"genres\", \"Description\", \"Reviews\", \"emotion\", \"Ratings\"**。  \n",
    "會被比較的embedding vector是由其中三種類別去做(\"Description\", \"Reviews\", \"emotion\")  \n",
    "可以針對這些類別去選擇問題詢問，並會回答一些跟問題最相關的前3個或更多個答案。  \n",
    "`pretty_print_results`會秀出被選的答案的`metadata`(包含\"movie_name\", \"document type\", \"genre\", \"rating\", \"doc_id\", \"Document(**Answer**)\", \"similarity distance\")  \n",
    "詳細實作方法如下所示:"
   ]
  },
  {
   "cell_type": "code",
   "execution_count": 203,
   "id": "9aba76cf",
   "metadata": {},
   "outputs": [
    {
     "name": "stdout",
     "output_type": "stream",
     "text": [
      "Found 3 matching results:\n",
      "\n",
      "Result 1:\n",
      "  Movie Name: One Day\n",
      "  \u001b[96mType: Description\u001b[0m\n",
      "  Genre: ['Drama', 'Romance']\n",
      "  Rating: 9.0\n",
      "  doc_id: doc24973\n",
      "  \u001b[93mDocument: it is a meditative love story about two people who are drawn to each other at a time in their lives when circumstances seem to forbid them to ever be together. it is not a story of a ...\u001b[0m\n",
      "  Distance: 0.9575\n",
      "--------------------------------------------------\n",
      "Result 2:\n",
      "  Movie Name: Love\n",
      "  \u001b[96mType: Description\u001b[0m\n",
      "  Genre: ['Drama', 'Science Fiction']\n",
      "  Rating: 4.0\n",
      "  doc_id: doc28498\n",
      "  \u001b[93mDocument: love explores the relationship between friends, family, and lovers. this story begins with the origins of a blossoming friendship between two 10-year-old girls. unfortunately, the childhood...\u001b[0m\n",
      "  Distance: 0.9703\n",
      "--------------------------------------------------\n",
      "Result 3:\n",
      "  Movie Name: Love\n",
      "  \u001b[96mType: Description\u001b[0m\n",
      "  Genre: []\n",
      "  Rating: 9.0\n",
      "  doc_id: doc20136\n",
      "  \u001b[93mDocument: love explores the relationship between friends, family, and lovers. this story begins with the origins of a blossoming friendship between two 10-year-old girls. unfortunately, the childhood...\u001b[0m\n",
      "  Distance: 0.9703\n",
      "--------------------------------------------------\n"
     ]
    }
   ],
   "source": [
    "results = collection.query(\n",
    "    query_texts=[\"Which movie descriptions are closest in meaning to 'A heartwarming story of friendship'?\"],\n",
    "    n_results=3,\n",
    "    where={\"type\": \"Description\"}\n",
    ")\n",
    "\n",
    "pretty_print_results(results)"
   ]
  },
  {
   "cell_type": "code",
   "execution_count": 204,
   "id": "43801f4e",
   "metadata": {},
   "outputs": [
    {
     "name": "stdout",
     "output_type": "stream",
     "text": [
      "Found 3 matching results:\n",
      "\n",
      "Result 1:\n",
      "  Movie Name: The Monster\n",
      "  \u001b[96mType: Reviews\u001b[0m\n",
      "  Genre: ['Comedy', 'Horror', 'Science Fiction']\n",
      "  Rating: 3.0\n",
      "  doc_id: doc20796\n",
      "  \u001b[93mDocument: i remember three years ago watching the trailer for this and being a little excited. it looked like an interesting creature feature, something we just don't have enough of these days.telling the story of a mother and daughter who are involved in a car crash in the middle of nowhere. when helps comes they learn that there is something sinister stalking them from the darkness.okay, solid concept what did they do with it? not much actually, in fact arguably the threat from the beastie isn't even the primary theme of the film. mother and daughter have issues, they don't get along due to the mothers poor life choices and the constant flashbacks dominate the film.i wanted a creature feature not a lifetime melodrama! sadly alike said melodramas we have serious character issues, the daughter is frustratingly annoying and the mother is so detestable that all efforts of redemption were lost on me.so half the movie isn't even the creature feature, our two characters are really unlikable and the film actually manages to be rather boring despite having a big flesh eating monster in it.speaking of the monster that is one thing i appreciated, it reminded me of the generic beasties we commonly got in the 80's. i liked this, it was old school and very welcome.the monster is not a creature feature and you'll likely be disappointed if that's what you're seeking. it's a mix of that and a very drab melodrama with characters you'll actually want to see get ripped apart by the monster.the good:old school beastiedecent settingthe bad:one protagonist is awful, the other is just plain annoyingmore melodrama than creature featuremanages to do most things poorly\u001b[0m\n",
      "  Distance: 0.8894\n",
      "--------------------------------------------------\n",
      "Result 2:\n",
      "  Movie Name: The Monster\n",
      "  \u001b[96mType: Reviews\u001b[0m\n",
      "  Genre: ['Comedy', 'Horror', 'Science Fiction']\n",
      "  Rating: 6.0\n",
      "  doc_id: doc20801\n",
      "  \u001b[93mDocument: as children, we often have irrational fears of things we have not being given a proper introduction to - we are told numerous stories, some still ignoring the lingering question we harbor deep within - our monsters real? - or an allegory of our very existence? this idea is effectively used in recent films such as, 'the babadook', 'it follows', 'the witch' and 'under the shadow'. director bryan bertino ('the strangers') shares a similar notion of this with 'the monster'.kathy (zoe kazan) a divorced alcoholic and inexperienced mother is taking her young and mature of age daughter, lizzy (ella ballentine), to permanently relocate with lizzy's father. while driving at night through a remote, rain-lashed forest, kathy crashes into a wolf, which wrecks their car leaving them stranded for help - waiting for a tow truck and ambulance. from here on, questions are raised - where did the wolf come from? what was it running from? where'd it get those deep cuts on its body? or where did the body disappear too? strangely these questions are not justifiably asked by kathy, but by lizzy.the only voice of reason!ella ballentine is the standout here - reminiscent of a young reese witherspoon. inquisitive, timid, fearful and courageously carrying the weight of 'the monster', as she has spent much of her youth taking care of herself - and her mother - through flashbacks provided. one in particular truly showing her acting chops. zoe kazan also great as kathy tries to maintain her sobriety while navigating and understanding the needs of her daughter - yes an overused device in hollywood - but effective still none the less.scott speedman shows us halfway through the movie with little to say or do, perhaps a favor to bertino, whom he directed in 'the strangers'.cinematographer julie kirkwood offers very little to appreciate here - with bertino not fully utilizing her until the third act - with a beautiful shot of the enclosed woods. the monster itself plays a minor role - as the full look of it seems rather cheap.overall 'the monster' may not hold up well with most allegory horror films, but it will stand on its own merit for ella ballentine - as she comes face to face with the monster - or are understanding of what it means to let go and grow up - afterall monsters are only what we make of them.\u001b[0m\n",
      "  Distance: 0.9120\n",
      "--------------------------------------------------\n",
      "Result 3:\n",
      "  Movie Name: Beauty and the Beast\n",
      "  \u001b[96mType: Reviews\u001b[0m\n",
      "  Genre: ['Fantasy']\n",
      "  Rating: 3.0\n",
      "  doc_id: doc30358\n",
      "  \u001b[93mDocument: for a comedic video review of this movie by thatpunkjocassidy, 'beauty and the beast: a dark tale' (c)2010, try the video link below!http://www.youtube.com/watch?v=0tmcd9e0kau oh this movie guys... if you haven't looked at the spoiler reviews here, then just know this: this is a syfy twist on an already disney popularized story, taking a dark turn... and failing. awesomely. really! i would even suggest watching the movie before my own video review, it's that enjoyably bad! the setting is bland, but the sets are well designed and attracts the eye. the acting sucks, but you will love helen the witch's scene chewing and the beast's awkward yet likable prosthetic garbled talk. i really don't hate this one, and gave it a three on the terms of being a bad put together film, yet is a must see!! watch as david lister and crew try so hard to tell the 'real' story of the beauty and the beast fable with mini-skirts, trolls, and cg castles! get ready to break out the larp costumes and cherry syrup blood!\u001b[0m\n",
      "  Distance: 1.0789\n",
      "--------------------------------------------------\n"
     ]
    }
   ],
   "source": [
    "results = collection.query(\n",
    "    query_texts=[\"Which movie talks about the monster?\"],\n",
    "    n_results=3,\n",
    "    where={\"type\": \"Description\", \"type\":\"Reviews\"}\n",
    ")\n",
    "\n",
    "pretty_print_results(results)"
   ]
  },
  {
   "cell_type": "code",
   "execution_count": 205,
   "id": "b443331f",
   "metadata": {},
   "outputs": [
    {
     "name": "stdout",
     "output_type": "stream",
     "text": [
      "Found 3 matching results:\n",
      "\n",
      "Result 1:\n",
      "  Movie Name: Joyride\n",
      "  \u001b[96mType: Reviews\u001b[0m\n",
      "  Genre: ['Comedy', 'Drama', 'Thriller']\n",
      "  Rating: 3.0\n",
      "  doc_id: doc28826\n",
      "  \u001b[93mDocument: silly and ludicrous thriller (if one could say so!) about two young friends who robbered a beautiful car just to find out a corpse in the trunk. a ordinary premise that never hit the point. there's only one curiosity in this misfire: old adam (batman) west living a pimp.believe me, don't lose your precious time. i give this a 3 (three).\u001b[0m\n",
      "  Distance: 0.9638\n",
      "--------------------------------------------------\n",
      "Result 2:\n",
      "  Movie Name: Public Enemies\n",
      "  \u001b[96mType: Reviews\u001b[0m\n",
      "  Genre: ['Drama', 'Crime']\n",
      "  Rating: 7.0\n",
      "  doc_id: doc40766\n",
      "  \u001b[93mDocument: in the words of john dillinger (johnny depp) spoken to his love interest billie frechette (marion cotillard, a good year), \"i like baseball, movies, good clothes, fast cars... and you. what else do you need to know?\" like a one legged pirate, \"public enemies\", helmed by hollywood's very own hd cam junkie michael mann (collateral, miami vice) limps along to the two hour and twenty minute mark and has, as ricky ricardo would say, \"a lot of s'plainin' to do\". in a world of well staged shootouts, fun and cocky dialogue and heartthrob's johnny depp (sweeney todd) and christian bale (american psycho), the words \"story development\" may or may not really make much of a difference, but let's not kid ourselves here, they really do. it is the 1930's and america has just declared their first war on crime, targeting some of the country's most notorious dangers to the well being of society. john dillinger is one such criminal, claiming bragging rights to the fact that he can clear out a safe in \"one minute and forty seconds flat.\" with the help of baby face nelson and pretty boy floyd there really isn't any bank they can't knock over or any jail cell secure enough to hold them in, that is until they are matched by the likes of fbi agent melvin purvis (christian bale). purvis pulls all the stops to remain hot on dillingers tail in attempts to capture him \"dead or dead\". along the way dillinger falls for billie, a coat check girl who you'd more than likely expect to catch wearing a three dollar dress in a room full of mink. their love is tested when dillinger is pursued and eventually restrained and locked away, only to escape once more through clever tom foolery in an attempt to fall back into billies arms once more while staying alive long enough to do it.to its credit, \"public enemies\" lives up to its expectations as a first rate gangster flick, steadily filling the screen with a barrage of machine gun bullets, almost to the point that you can smell the gunpowder from the fifth row. there's enough blood, gore and suspense to keep any action fan at bay, and if you don't squirm in your seat during end of the second to last scene you may need to check your pulse at the door. unless you've experienced a shootout in person, there is a particularly notable one between the fbi and dillinger in a motel at the pictures halfway point that should leave you breathless. in fact, if i were to rate public enemies on a scale for action alone, id happily award it with a five star honor, but this isn't meant to be just some run of the mile schwarzenegger popcorn flick, this is meant to be a fine slice of cinema, and cinema has certain prerequisites. as i stared up at a crisp digital print of the film, i couldn't help but wonder why a big budget movie of this caliber was decidedly shot, in michael mann fashion, in hd. at times, the image looked beautifully gritty and realistic, while at others as degrading and false as home video this makes me seriously contemplate why mann still insists on shooting on cheap digital cameras like the f-23 which he used for this particular project instead of actual film or even a red one. my question may never be answered, but ultimately it's the film's quality that suffers, which in turn managed to remove me on more than one occasion from the fantasy world of the picture. i wish i could say this was the only aspect that distracted me from my viewing experience.it seems as if in a stirring turn of events, which occurs somewhere between the main titles and the end credits, michael mann has failed to include even a stitch of character or story development. with the exception of her basic introduction at a dingy city bar, billie has absolutely no back story what-so-ever. this never allows us the opportunity to connect with her on even the most elementary of levels neither emotionally nor physically. the same goes for agent purvis, whose character is flatter than a dollar flapjack off the sunrise special, making this one of bale's most forgettable performances to date. there is absolutely no chemistry between depp and cotillard, which is a shame when you consider how dynamic both of these top notch actors are individually. to his credit, depp does manage to deliver another stunning, hardnosed performance as john dillinger and proves to once again be a complete joy to marvel at on screen. if only the story had as much pizazz. as a whole, we are presented with bits and pieces of celluloid that never quite seem to join together to make an actual movie, but rather come off as a series of disjointed, yet entertaining vignettes. you would think that by the third film in mann's powerful resume, he would have learned by now how to pace and execute a motion picture instead disproving his validity as a serious director by making these easy to avoid errors that stand out on screen like a bad spelling mistake. when you mix everything up in an over-sized pot and stir, the ultimate result is an undercooked, emotionless and disconnected final product. if you're expecting to walk into public enemies thinking it's going to be the next \"godfather\" or \"scarface\", you may find yourself severely disillusioned at the films conclusion. then again, if you walk into the movie expecting to be thrilled by impeccably staged action sequences and a few downright impressive shootouts you may find yourself satisfied with your ten dollar ticket purchase. either way, discerning audiences will demand explanation for why studio execs failed to well explain anything. someone tell mr. ricardo that it's time for his close up.\u001b[0m\n",
      "  Distance: 0.9832\n",
      "--------------------------------------------------\n",
      "Result 3:\n",
      "  Movie Name: Fallen\n",
      "  \u001b[96mType: Reviews\u001b[0m\n",
      "  Genre: ['Thriller', 'Fantasy', 'Crime', 'Drama']\n",
      "  Rating: 10.0\n",
      "  doc_id: doc3698\n",
      "  \u001b[93mDocument: this is a psychological thriller with every ingredient you could ever want for a great movie-experience in that genre. denzel washington acts brilliantly as the highly renowned detective hobbes who's in for quite an experience. co-actors, including john goodman, donald sutherland and james gandolfini also shine in this movie. great acting, a story full of suspense and surprises, great score and some nerve-rattling scenes makes this a perfect movie worth buying for your collection. it's not only a great murder-mystery detective movie, but it probes deeper into the realms of faith, religion, philosophy and imagination and thus stands out as a movie more memorable than most. if you like \"seven\" and \"the ninth gate\", you're certainly gonna like this one. i've seen it at least 6 times.\u001b[0m\n",
      "  Distance: 1.0345\n",
      "--------------------------------------------------\n"
     ]
    }
   ],
   "source": [
    "results = collection.query(\n",
    "    query_texts=[\"Which movie talks about the crime activity?\"],\n",
    "    n_results=3,\n",
    "    where={\"type\": \"Description\", \"type\":\"Reviews\"}\n",
    ")\n",
    "\n",
    "pretty_print_results(results)"
   ]
  },
  {
   "cell_type": "code",
   "execution_count": 206,
   "id": "b34bef4c",
   "metadata": {},
   "outputs": [
    {
     "name": "stdout",
     "output_type": "stream",
     "text": [
      "Found 3 matching results:\n",
      "\n",
      "Result 1:\n",
      "  Movie Name: Date Movie\n",
      "  \u001b[96mType: Description\u001b[0m\n",
      "  Genre: ['Comedy']\n",
      "  Rating: 10.0\n",
      "  doc_id: doc16796\n",
      "  \u001b[93mDocument: spoof of romantic comedies which focuses on a man, his crush, his parents, and her father.\u001b[0m\n",
      "  Distance: 0.9387\n",
      "--------------------------------------------------\n",
      "Result 2:\n",
      "  Movie Name: The Legend of Zorro\n",
      "  \u001b[96mType: Reviews\u001b[0m\n",
      "  Genre: ['Action', 'Adventure']\n",
      "  Rating: 9.0\n",
      "  doc_id: doc16179\n",
      "  \u001b[93mDocument: i am a mom of 5 children, so when i get a night out to see a movie i don't want to see a dud. when it is a date with your husband it is even tougher. it can't be too much of a chic flick and i don't want to see something too violent. it isn't easy to find a movie with some action (dad) some romance (mom) and some comedy (both). this movie did it. now i am not saying it should get some academy award but i sure wish there were more movies like this. it was suspenseful without being gory. it was romantic and sexy without the sex (women love that). the addition of the child added a parent component that we liked. it really could be considered as a family movie for older children. i can't specifically recall any profanity (that doesn't mean there wasn't).this movie was definitely not a waste of a babysitter. it was also nice and long for those of us with a longer attention span who want a more developed plot. the story was interesting and entertaining and funny (if you catch it).\u001b[0m\n",
      "  Distance: 1.0306\n",
      "--------------------------------------------------\n",
      "Result 3:\n",
      "  Movie Name: Inside Out\n",
      "  \u001b[96mType: Reviews\u001b[0m\n",
      "  Genre: ['Drama', 'Mystery', 'Thriller']\n",
      "  Rating: 2.0\n",
      "  doc_id: doc37910\n",
      "  \u001b[93mDocument: a young girl's five emotions try to solve her identity crisis caused by moving, but when the wrong levers in brain's control center are pushed, things go awry. that synopsis made me push watching this further and further ahead to, but i loved docter's masterpiece \"up\" so i had to watch this in a theater while i still could. me and my partner thought, well, not really expecting much, so it will probably be ok. but oh what a disappointment it was. ok, i admit we are not teens. and love japanese animation. and i do not appreciate disney because of their marketing bonanza and ill-fitting gender stereotypes. but this film is so chock-full of fantasy-killing and misguided ideological messages that i am flabbergasted. it is beyond me how so little viewers find offense with the messages, and that these are thoroughly inappropriate for kids. like for instance: 1) you are not in control of your emotions, your emotions control you. 2) thought and reason have no influence at all on your decisions. 3) if you do not keep your emotions in check, you will lose your memories. if you lose your memories, you will become emotionally unresponsive. 4) there is only one good emotion (joy). there are four negative ones (sadness, anger, disgust, fear). that is it. that is what everyone feels. to hell with love. or desire. or curiosity. or faith. 5) in order to grow up, your joyful memories have to become sad memories. why? good question. that is the climax of the movie and there is no explanation why this should be the case.none of this makes any sense. the whole plot is completely incoherent. these messages hold no educational value whatsoever. and strangely this seems to be more obvious to children than to adults - i heard a boy asking his parents what any of that was supposed to mean. this is obviously made and marketed for tech-savvy young parents who think they should take their kids to something more \"challenging\" than \"planes 2\". the parents look like what an ad exec at disney imagines google employees to look like - mom wears cute specs, dad a hipster beard and it is set in san francisco on top of that. the whole thing is probably the most in-your-face marketing device posing for a movie that i have ever seen. and everybody seems to be literally buying it.well, not everybody. some of the reviewers here do have similar issues, so all is not lost for the human race. if you care for an alternative story about a girl away from home struggling to adapt, there is the fantastic new ghibli feature \"when marnie was there\". that film has everything \"inside out\" has not: a story, believable characters, imagination, mystery, and most importantly: heart.\u001b[0m\n",
      "  Distance: 1.0575\n",
      "--------------------------------------------------\n"
     ]
    }
   ],
   "source": [
    "results = collection.query(\n",
    "    query_texts=[\"Find movies with happy emotions and family themes.\"],\n",
    "    n_results=3,\n",
    ")\n",
    "\n",
    "pretty_print_results(results)"
   ]
  },
  {
   "cell_type": "code",
   "execution_count": 207,
   "id": "bdd99c17",
   "metadata": {},
   "outputs": [
    {
     "name": "stdout",
     "output_type": "stream",
     "text": [
      "Found 3 matching results:\n",
      "\n",
      "Result 1:\n",
      "  Movie Name: Proteus\n",
      "  \u001b[96mType: Reviews\u001b[0m\n",
      "  Genre: ['Thriller', 'Horror', 'Science Fiction']\n",
      "  Rating: 4.0\n",
      "  doc_id: doc38738\n",
      "  \u001b[93mDocument: this movie has all the hallmarks of a *great* stupid sci-fi flick... stupid scientists, dumb hi-tech gadgets, shape-shifting aliens who seduce their prey, expository videos labeled \"watch me\"... the list goes on. don't expect much from the plot or special effects... watch it for the cliches...\u001b[0m\n",
      "  Distance: 1.0605\n",
      "--------------------------------------------------\n",
      "Result 2:\n",
      "  Movie Name: The Pallbearer\n",
      "  \u001b[96mType: Reviews\u001b[0m\n",
      "  Genre: ['Comedy', 'Romance']\n",
      "  Rating: 2.0\n",
      "  doc_id: doc1404\n",
      "  \u001b[93mDocument: no comment - stupid movie, acting average or worse... screenplay - no sense at all... skip it!\u001b[0m\n",
      "  Distance: 1.1314\n",
      "--------------------------------------------------\n",
      "Result 3:\n",
      "  Movie Name: Eden\n",
      "  \u001b[96mType: Reviews\u001b[0m\n",
      "  Genre: ['Drama']\n",
      "  Rating: 5.0\n",
      "  doc_id: doc28198\n",
      "  \u001b[93mDocument: plot loses its way. underdeveloped. two male leads do a good job with a less than compelling script. (i only watched this because i thought it was the movie with the same name from 2013 starring beau bridges but i was wrong!)\u001b[0m\n",
      "  Distance: 1.1610\n",
      "--------------------------------------------------\n"
     ]
    }
   ],
   "source": [
    "results = collection.query(\n",
    "    query_texts=[\"Tell me about movies that involve artificial intelligence.\"],\n",
    "    n_results=3,\n",
    ")\n",
    "\n",
    "pretty_print_results(results)"
   ]
  },
  {
   "cell_type": "code",
   "execution_count": 225,
   "id": "991d90fa",
   "metadata": {},
   "outputs": [
    {
     "name": "stdout",
     "output_type": "stream",
     "text": [
      "Found 3 matching results:\n",
      "\n",
      "Result 1:\n",
      "  Movie Name: Joyride\n",
      "  \u001b[96mType: Reviews\u001b[0m\n",
      "  Genre: ['Comedy', 'Drama', 'Thriller']\n",
      "  Rating: 6.0\n",
      "  doc_id: doc28828\n",
      "  \u001b[93mDocument: i really cannot believe the amount of negativity being directed at this movie! i really enjoyed it! amy hathaway is hot and fun to watch. she sort of reminds me of alicia silverstone in excess baggage. i was transfixed watching toby mcguire and benicio del toro, as i have been fans of both of theirs for years.. the movie actually has quite a bit of tension and suspense, and it works, because you really feel for these kids, and the situation they are stuck in. sure, there are some definite continuity errors, and the acting is far from perfect, at times, but somehow these don't detract from the storyline and the overall feel of the movie. i watched half of the movie last night, and was hooked enough to come back and finish it,today. a strong 5, but maybe even a 6, in my book. definitely worth a look, if you're into these types of movies.\u001b[0m\n",
      "  Distance: 0.9710\n",
      "--------------------------------------------------\n",
      "Result 2:\n",
      "  Movie Name: Truth or Dare\n",
      "  \u001b[96mType: Reviews\u001b[0m\n",
      "  Genre: ['Horror', 'Thriller', 'Mystery']\n",
      "  Rating: 6.0\n",
      "  doc_id: doc28758\n",
      "  \u001b[93mDocument: the movie did not receive the bad amount of comments or opinions it got from other users. quite frankly, they are wrong in calling truth or dare a bad movie, as it is not meant to be a masterpiece but a fun movie to watch in a rainy day scenario. if you are looking for a movie that you can switch off to and just watch a movie that is mindless entertainment then truth or dare is a movie i recommend it if you can look past of the cliche horror tropes. overall the movie as some decent young actors in it and is a passable horror movie so i suggest giving truth or dare a chance.\u001b[0m\n",
      "  Distance: 0.9734\n",
      "--------------------------------------------------\n",
      "Result 3:\n",
      "  Movie Name: Darling\n",
      "  \u001b[96mType: Reviews\u001b[0m\n",
      "  Genre: ['Drama', 'Romance']\n",
      "  Rating: 6.0\n",
      "  doc_id: doc44943\n",
      "  \u001b[93mDocument: before i saw this movie i was having a faint idea about what to expect. i watched the movie with my fingers crossed after reading the reviews in news paper. especially after nishabd, aag and shiva i was expecting this movie to be another thrash by rgv. but at the end i like the overall movie and here i am giving 6 rating to it. what i like about the movie is it finds comedy in horror. i don't remember happening this before in bollywood movies. (chamtkar may be ..) with the humor in it the movie makes the audience tickle. better not to watch it by keeping any expectations in mind. it has very simple story line as of other rgv movies. a well settled married man (fardeen khan) accidentally kills his secretary come girlfriend (esha deol). the girlfriend then comes as a ghost to haunt her killer. and in all this the wife (isha kopikar) is confused because of her husband's weird behavior. the simple story line is no doubt has stretched by director and script writer. especially at the beginning, before esha dies and then she comes as a ghost, the movie goes with a low pace. but after that i think it gets the grip. the movie is rather funny because of some unique characters. specially the character played by zakir hussaina and inspector reddy. also the lady inspector character is unique and the way it has been used it is funny. othre than this, i also like the things fardeen tries to get rid of ghost, but fails. it is the overall presentation of scenes and their arrangements makes the entire movie fun riding horror experience. in all, it was a good try to give something new to bollywood audience, and i as one will accept it. may be some time later, we see more of such experiments done, and getting success at box office.\u001b[0m\n",
      "  Distance: 0.9871\n",
      "--------------------------------------------------\n"
     ]
    }
   ],
   "source": [
    "results = collection.query(\n",
    "    query_texts=[\"Tell me the positive and suggestive review of movie whose rating is 6.0\"],\n",
    "    n_results=3,\n",
    "    where={\"rating\":\"6.0\"}\n",
    ")\n",
    "\n",
    "pretty_print_results(results)"
   ]
  },
  {
   "cell_type": "code",
   "execution_count": 226,
   "id": "9a6bae29",
   "metadata": {},
   "outputs": [
    {
     "name": "stdout",
     "output_type": "stream",
     "text": [
      "Found 3 matching results:\n",
      "\n",
      "Result 1:\n",
      "  Movie Name: The Three Musketeers\n",
      "  \u001b[96mType: emotion\u001b[0m\n",
      "  Genre: ['Action', 'Adventure', 'Romance']\n",
      "  Rating: 4.0\n",
      "  doc_id: doc19226\n",
      "  \u001b[93mDocument: anger\u001b[0m\n",
      "  Distance: 1.1996\n",
      "--------------------------------------------------\n",
      "Result 2:\n",
      "  Movie Name: The Three Musketeers\n",
      "  \u001b[96mType: emotion\u001b[0m\n",
      "  Genre: ['Action', 'Adventure', 'Comedy']\n",
      "  Rating: 7.0\n",
      "  doc_id: doc1019\n",
      "  \u001b[93mDocument: anger\u001b[0m\n",
      "  Distance: 1.1996\n",
      "--------------------------------------------------\n",
      "Result 3:\n",
      "  Movie Name: The Three Musketeers\n",
      "  \u001b[96mType: emotion\u001b[0m\n",
      "  Genre: ['Action', 'Adventure', 'Comedy', 'Drama']\n",
      "  Rating: 7.0\n",
      "  doc_id: doc15026\n",
      "  \u001b[93mDocument: anger\u001b[0m\n",
      "  Distance: 1.1996\n",
      "--------------------------------------------------\n"
     ]
    }
   ],
   "source": [
    "results = collection.query(\n",
    "    query_texts=[\"Show me the emotion or description.\"],\n",
    "    n_results=3,\n",
    "    where={\"name\": \"The Three Musketeers\"}\n",
    ")\n",
    "\n",
    "pretty_print_results(results)"
   ]
  },
  {
   "cell_type": "markdown",
   "id": "edcf8d45",
   "metadata": {},
   "source": [
    "說明: 可以看到他有針對問題的要求給予emotion和description，有請它在\"Employee of the Month\"這部電影範圍下去搜尋。"
   ]
  },
  {
   "cell_type": "code",
   "execution_count": 210,
   "id": "4ea5ce4e",
   "metadata": {},
   "outputs": [
    {
     "name": "stdout",
     "output_type": "stream",
     "text": [
      "Found 3 matching results:\n",
      "\n",
      "Result 1:\n",
      "  Movie Name: Employee of the Month\n",
      "  \u001b[96mType: emotion\u001b[0m\n",
      "  Genre: ['Comedy', 'Romance']\n",
      "  Rating: 7.0\n",
      "  doc_id: doc17374\n",
      "  \u001b[93mDocument: anger\u001b[0m\n",
      "  Distance: 1.2178\n",
      "--------------------------------------------------\n",
      "Result 2:\n",
      "  Movie Name: Employee of the Month\n",
      "  \u001b[96mType: emotion\u001b[0m\n",
      "  Genre: ['Comedy', 'Romance']\n",
      "  Rating: 5.0\n",
      "  doc_id: doc17370\n",
      "  \u001b[93mDocument: anger\u001b[0m\n",
      "  Distance: 1.2178\n",
      "--------------------------------------------------\n",
      "Result 3:\n",
      "  Movie Name: Employee of the Month\n",
      "  \u001b[96mType: Reviews\u001b[0m\n",
      "  Genre: ['Comedy', 'Romance']\n",
      "  Rating: 5.0\n",
      "  doc_id: doc17370\n",
      "  \u001b[93mDocument: the movie is about competition between two guys for the employee of the month. plus to sleep with jessica simpson.jessica simpson is a horrible actress. she looks blank; she does not show any expression at all. she's just in the movie for her cleavage show, but it is not worth it.dax shepard is real good and brings up a few laughs with efren ramirez. apart from them, there is not much to laugh. humor is just so blank. dane somehow looks lost and frustrated and does not look like a part of the movie.there is not much spend on the movie, expect probably renting a costco.the story might have been interesting if dane tried to win the employee of the month in his own 'box boy' way. and probably losing it narrowly to dax, after he realizes what are important to him. also, there is not much scene to show that he is close with his three friends and so it does not make sense when he feels terrible, at their anger. poor story writing in this part.this movie tried to a feel good movie, but fails miserably. you will feel empty at the end of this movie, but won't regret watching it. (4/10)\u001b[0m\n",
      "  Distance: 1.6051\n",
      "--------------------------------------------------\n"
     ]
    }
   ],
   "source": [
    "results = collection.query(\n",
    "    query_texts=[\"Show me the emotion and description.\"],\n",
    "    n_results=3,\n",
    "    where={\"name\": \"Employee of the Month\"}\n",
    ")\n",
    "\n",
    "pretty_print_results(results)"
   ]
  },
  {
   "cell_type": "markdown",
   "id": "60d8c7b0",
   "metadata": {},
   "source": [
    "說明: 這是將movie name寫在query中，也可以順利看到一些description"
   ]
  },
  {
   "cell_type": "code",
   "execution_count": 211,
   "id": "f76f1e73",
   "metadata": {},
   "outputs": [
    {
     "name": "stdout",
     "output_type": "stream",
     "text": [
      "Found 3 matching results:\n",
      "\n",
      "Result 1:\n",
      "  Movie Name: Employee of the Month\n",
      "  \u001b[96mType: Description\u001b[0m\n",
      "  Genre: ['Comedy', 'Romance']\n",
      "  Rating: 5.0\n",
      "  doc_id: doc17370\n",
      "  \u001b[93mDocument: a slacker competes with a repeat winner for the \"employee of the month\" title at work, in order to gain the affections of a new female employee.\u001b[0m\n",
      "  Distance: 1.0414\n",
      "--------------------------------------------------\n",
      "Result 2:\n",
      "  Movie Name: Employee of the Month\n",
      "  \u001b[96mType: Description\u001b[0m\n",
      "  Genre: ['Comedy', 'Romance']\n",
      "  Rating: 7.0\n",
      "  doc_id: doc17374\n",
      "  \u001b[93mDocument: a slacker competes with a repeat winner for the \"employee of the month\" title at work, in order to gain the affections of a new female employee.\u001b[0m\n",
      "  Distance: 1.0414\n",
      "--------------------------------------------------\n",
      "Result 3:\n",
      "  Movie Name: Safety Not Guaranteed\n",
      "  \u001b[96mType: Description\u001b[0m\n",
      "  Genre: ['Comedy', 'Romance', 'Science Fiction', 'Drama']\n",
      "  Rating: 2.0\n",
      "  doc_id: doc26524\n",
      "  \u001b[93mDocument: three magazine employees head out on an assignment to interview a guy who placed a classified advertisement seeking a companion for time travel.\u001b[0m\n",
      "  Distance: 1.3817\n",
      "--------------------------------------------------\n"
     ]
    }
   ],
   "source": [
    "results = collection.query(\n",
    "    query_texts=[\"Show me the description about 'Employee of the Month'.\"],\n",
    "    n_results=3,\n",
    ")\n",
    "\n",
    "pretty_print_results(results)"
   ]
  },
  {
   "cell_type": "markdown",
   "id": "8f665fb3",
   "metadata": {},
   "source": [
    "說明: 以下例子顯示搜尋條件沒有限縮comedy genre，也可以找到有關comedy的結果!"
   ]
  },
  {
   "cell_type": "code",
   "execution_count": 212,
   "id": "e06bc9ed",
   "metadata": {},
   "outputs": [
    {
     "name": "stdout",
     "output_type": "stream",
     "text": [
      "Found 3 matching results:\n",
      "\n",
      "Result 1:\n",
      "  Movie Name: Just Married\n",
      "  \u001b[96mType: Reviews\u001b[0m\n",
      "  Genre: ['Comedy']\n",
      "  Rating: 2.0\n",
      "  doc_id: doc9964\n",
      "  \u001b[93mDocument: there are several laugh-out-loud moments in this film, and it is only because of these that it doesn't merit a 1/10 rating.the film is crude and crass. it tries to be very pc in its attitude to sex  lots of talk, the presence of sex aids, the newly-wed wife who has been a player but is still (supposedly) sweet and charming  but these efforts just add to the tedium and the unappealing nature of the two lead characters.the story plods along, ashton kutcher (the male lead) is irritating and brittany murphy is short. short of comedic talent and physically short; the disparity in the heights of the two leads is yet another distraction from the \"action\".by their nature, romantic comedies are predictable when it comes to the overall plot; boy meets girl, they have difficulties getting together, but all is well at the end. that's ok, but this film takes predictability to extremes. there are the standard observations of an american abroad in europe; some cars in europe are small, french people are pompous and rude, the american makes a courageous stand for his inalienable rights against the french assault. then there are the tired plot devices the characters face back in america; the rich family that doesn't want the daughter to marry poor, the valiant poor boy triumphing against the odds, the well, you get the picture.still, there are those laugh-out-loud moments. they stop the movie from being a total waste of time, but are not nearly enough to recommend it.sum-up  don't watch this film unless you are desperate.rating  2/10\u001b[0m\n",
      "  Distance: 0.8248\n",
      "--------------------------------------------------\n",
      "Result 2:\n",
      "  Movie Name: License to Wed\n",
      "  \u001b[96mType: Reviews\u001b[0m\n",
      "  Genre: ['Comedy']\n",
      "  Rating: 5.0\n",
      "  doc_id: doc18118\n",
      "  \u001b[93mDocument: robin williams is certainly a very gifted comedian. it would be a sin to classify him as untalented. but somebody needs to send this guy some decent scripts. i think the problem is people feel that all you need to do is cast robin as the lead, and viola! you've got yourself a hilarious comic romp! weak writing is weak writing. end of story. the film is not without laughs. i certainly did laugh several times, but as you would expect, most of the good jokes are given away in the trailer. altogether, \"license to wed\" is a predictable romantic comedy filled with lots of sitcom-level humor. it's worth checking out on cable. like i said, there are some laughs, and watching the gorgeous mandy moore certainly doesn't hurt either. but this is one of those comedies you'll probably forget soon after you've seen it.\u001b[0m\n",
      "  Distance: 0.8612\n",
      "--------------------------------------------------\n",
      "Result 3:\n",
      "  Movie Name: Adam and Eve\n",
      "  \u001b[96mType: Reviews\u001b[0m\n",
      "  Genre: ['Drama']\n",
      "  Rating: 9.0\n",
      "  doc_id: doc29456\n",
      "  \u001b[93mDocument: very plainly and very simply this movie is brilliant!!! this movie is not a comedy. it is a love story, a true love story in disguise. the college dorm room setting... disguise. the maker, national lampoon, a disguise. here is the equation. life is about love and life is also about pain. this movie is about both of them. this movie illustrates the feelings of love and the pain that goes along with it that we experience in life. the viewer must watch this movie for what it is... not for what it is not. the viewer must watch this movie with an open mind and not expect a comedy. this movie is much, much more than that. this movie couldn't be more about real life if it tried.\u001b[0m\n",
      "  Distance: 0.8922\n",
      "--------------------------------------------------\n"
     ]
    }
   ],
   "source": [
    "results = collection.query(\n",
    "    query_texts=[\"Show the interesting plot in comedy films\"],\n",
    "    n_results=3,\n",
    ")\n",
    "\n",
    "pretty_print_results(results)"
   ]
  },
  {
   "cell_type": "code",
   "execution_count": 229,
   "id": "1f21b3a7",
   "metadata": {},
   "outputs": [
    {
     "name": "stdout",
     "output_type": "stream",
     "text": [
      "Found 3 matching results:\n",
      "\n",
      "Result 1:\n",
      "  Movie Name: First Knight\n",
      "  \u001b[96mType: Description\u001b[0m\n",
      "  Genre: ['Action', 'Adventure', 'Drama', 'Romance']\n",
      "  Rating: 3.0\n",
      "  doc_id: doc353\n",
      "  \u001b[93mDocument: lancelot falls in love with guinevere, who is due to be married to king arthur. meanwhile, a violent warlord tries to seize power from arthur and his knights of the round table.\u001b[0m\n",
      "  Distance: 1.3957\n",
      "--------------------------------------------------\n",
      "Result 2:\n",
      "  Movie Name: First Knight\n",
      "  \u001b[96mType: Reviews\u001b[0m\n",
      "  Genre: ['Action', 'Adventure', 'Drama', 'Romance']\n",
      "  Rating: 3.0\n",
      "  doc_id: doc353\n",
      "  \u001b[93mDocument: how on earth did sean connery, richard gere, julie ormand, ben cross, sir john gielgud, and other actors of note, ever get roped into making this awful atrocious movie? the word \"hokum\" is undoubtedly a compliment in this case. surely it wasn't for money? nobody's that greedy or hard up. or did they all think it was a good idea at the time? if so, they were badly mistaken.the supposed norman armour looked like something that was dreamed up for (and thrown out of) star trek or flash gordon. actually the styles of (designer) armour on display here range from the bizarre to the unbelievable with shades of the ridiculous in between. disregarding that they were all made out of modern material, uniforms were not worn by any military in britain until cromwell's new model army in the 17th century. until then recognition of both friend and enemy alike was by banners etc., and was all a bit of a hit and miss affair (just like this movie in fact). on reflection i can't recall seeing a single banner in the entire film.the fabled king arthur wouldn't have been norman anyway. he was supposed (debatedly) to have been a 5th or 6th century ancient briton, some say with roman ancestry, and to have lived long before the norman conquest was even thought of. one theory even puts forward the view that he actually was a roman who'd remained in britain after all others had departed. whichever of the many theories you prefer, you'd have to agree that he certainly wouldn't even have seen a gothic building let alone lived in one.the moralising (or should i say demoralising) script was not only absolutely dire but downright silly. almost as silly as the gas fire in the middle of the round table.i don't think that britain was actually mentioned in the script, so perhaps if this re-telling of a powerful story had been set anywhere (a planet somewhere in the far reaches of andromeda comes to mind) instead of in and around camelot, and with a different set of characters, the movie might have been acceptable. as it is, it has to go down in the comedy mode. except that it wasn't meant to be one.richard gere as lancelot has to be the one of the worst casting mistakes in movie history, that is if you discount john wayne as ghengis khan (and the \"surely this must be the son of god!\" centurian), or a 30 yr old robert taylor as billy the kid. and sean connery as king arthur doesn't rate much better. the only good comments i can make about the whole production is that there's a rather nice musical score lurking somewhere behind everything, and adam greenberg's cinematography is rather good. for those two points alone i've given it an extra star, but it's still an awful movie.in conclusion, this has to be a follywood production that cannot be missed...otherwise you'll never know how bad it is!\u001b[0m\n",
      "  Distance: 1.4295\n",
      "--------------------------------------------------\n",
      "Result 3:\n",
      "  Movie Name: First Knight\n",
      "  \u001b[96mType: emotion\u001b[0m\n",
      "  Genre: ['Action', 'Adventure', 'Drama', 'Romance']\n",
      "  Rating: 3.0\n",
      "  doc_id: doc353\n",
      "  \u001b[93mDocument: sadness\u001b[0m\n",
      "  Distance: 1.5234\n",
      "--------------------------------------------------\n"
     ]
    }
   ],
   "source": [
    "results = collection.query(\n",
    "    query_texts=[\"Show the emotion in 'First Knight'.\"],\n",
    "    n_results=3,\n",
    "    where={\"name\":\"First Knight\"}\n",
    ")\n",
    "\n",
    "pretty_print_results(results)"
   ]
  },
  {
   "cell_type": "code",
   "execution_count": 214,
   "id": "3735aedf",
   "metadata": {},
   "outputs": [
    {
     "name": "stdout",
     "output_type": "stream",
     "text": [
      "Found 3 matching results:\n",
      "\n",
      "Result 1:\n",
      "  Movie Name: The Three Musketeers\n",
      "  \u001b[96mType: Description\u001b[0m\n",
      "  Genre: ['Action', 'Adventure', 'Romance']\n",
      "  Rating: 10.0\n",
      "  doc_id: doc19305\n",
      "  \u001b[93mDocument: france, 1625: young d'artagnan heads to paris to join the musketeers but the evil cardinal has disbanded them - save 3. he meets the 3, athos, porthos and aramis, and joins them on their quest to save the king and country.\u001b[0m\n",
      "  Distance: 0.7673\n",
      "--------------------------------------------------\n",
      "Result 2:\n",
      "  Movie Name: The Three Musketeers\n",
      "  \u001b[96mType: Description\u001b[0m\n",
      "  Genre: ['Action', 'Adventure', 'Romance']\n",
      "  Rating: 8.0\n",
      "  doc_id: doc19263\n",
      "  \u001b[93mDocument: france, 1625: young d'artagnan heads to paris to join the musketeers but the evil cardinal has disbanded them - save 3. he meets the 3, athos, porthos and aramis, and joins them on their quest to save the king and country.\u001b[0m\n",
      "  Distance: 0.7673\n",
      "--------------------------------------------------\n",
      "Result 3:\n",
      "  Movie Name: The Three Musketeers\n",
      "  \u001b[96mType: Description\u001b[0m\n",
      "  Genre: ['Romance', 'Action', 'Adventure', 'Drama']\n",
      "  Rating: 10.0\n",
      "  doc_id: doc13730\n",
      "  \u001b[93mDocument: the young gascon d'artagnan arrives in paris, his heart set on joining the king's musketeers. he is taken under the wings of three of the most respected and feared musketeers, porthos, ...\u001b[0m\n",
      "  Distance: 0.8324\n",
      "--------------------------------------------------\n"
     ]
    }
   ],
   "source": [
    "results = collection.query(\n",
    "    query_texts=[\"Main location in 'The Three Musketeers'.\"],\n",
    "    n_results=3,\n",
    "    where={\"name\":\"The Three Musketeers\"}\n",
    ")\n",
    "\n",
    "pretty_print_results(results)"
   ]
  },
  {
   "cell_type": "code",
   "execution_count": 215,
   "id": "1933b67c",
   "metadata": {},
   "outputs": [
    {
     "name": "stdout",
     "output_type": "stream",
     "text": [
      "Found 3 matching results:\n",
      "\n",
      "Result 1:\n",
      "  Movie Name: Rio\n",
      "  \u001b[96mType: Reviews\u001b[0m\n",
      "  Genre: ['Crime']\n",
      "  Rating: 9.0\n",
      "  doc_id: doc35613\n",
      "  \u001b[93mDocument: in rio de janeiro, the macaw baby blu is captured by dealers and smuggled to the united states of america. while driving through moose lake, minnesotta, the truck that is transporting blu has a minor accident that drops the box where he is trapped on the road. the girl linda finds the bird and raises him with love. fifteen years later, blu is a domesticated and intelligent bird that does not fly and lives a comfortable life with the bookshop owner linda. out of the blue, the clumsy brazilian ornithologist tulio visits linda and explains that blu is the last male of his species alive and he has a female called jewel in rio de janeiro. he invites linda to travel with blu to rio de janeiro to mate with jewel and save their species.linda travels with blu and tulio to rio de janeiro and they leave blue and jewel in a large cage in the institute where tulio works. while they are having dinner, smugglers break in the institute and steal blue and jewel to sell them for foreigners. linda and tulio look everywhere for blu that is chained to jewel and hidden in a slum. meanwhile, jewel and blu escape from their captors and befriend a group of birds that help them to get rid off the chain. it is carnival and the smugglers and the mean cockatoo nigel do not intend to give up of blu and jewel and are chasing the birds through the crowded streets. \"rio\" is a delightful animation with the adventures of a blue macaw in my wonderful city. the successful director carlos saldanha was born in rio de janeiro and he knows the beauties of our city to show to natives, to brazilians and to foreigners. the cgi is also awesome, with magnificent colored birds and the landscapes are impressively realistic and disclose minor details of our daily life that a real \"carioca\" will certainly note. the story is engaging, and the blue macaws blu, who is smart but can not fly, and jewel, who is impulsive and does not think before acting, are responsible for some of the funniest moments. my vote is nine.title (brazil): \"rio\"\u001b[0m\n",
      "  Distance: 1.0096\n",
      "--------------------------------------------------\n",
      "Result 2:\n",
      "  Movie Name: Rio\n",
      "  \u001b[96mType: emotion\u001b[0m\n",
      "  Genre: ['Crime']\n",
      "  Rating: 9.0\n",
      "  doc_id: doc35613\n",
      "  \u001b[93mDocument: anger\u001b[0m\n",
      "  Distance: 1.8323\n",
      "--------------------------------------------------\n",
      "Result 3:\n",
      "  Movie Name: Rio\n",
      "  \u001b[96mType: Description\u001b[0m\n",
      "  Genre: ['Crime']\n",
      "  Rating: 9.0\n",
      "  doc_id: doc35613\n",
      "  \u001b[93mDocument: a crazed man escapes from prison to kill his wife's lover.\u001b[0m\n",
      "  Distance: 1.9328\n",
      "--------------------------------------------------\n"
     ]
    }
   ],
   "source": [
    "results = collection.query(\n",
    "    query_texts=[\"Main location in 'Rio'.\"],\n",
    "    n_results=3,\n",
    "    where={\"name\":\"Rio\"}\n",
    ")\n",
    "\n",
    "pretty_print_results(results)"
   ]
  },
  {
   "cell_type": "code",
   "execution_count": 216,
   "id": "35ed96b8",
   "metadata": {},
   "outputs": [
    {
     "name": "stdout",
     "output_type": "stream",
     "text": [
      "Found 3 matching results:\n",
      "\n",
      "Result 1:\n",
      "  Movie Name: The Quick and the Dead\n",
      "  \u001b[96mType: Reviews\u001b[0m\n",
      "  Genre: ['Action', 'Drama', 'Western']\n",
      "  Rating: 7.0\n",
      "  doc_id: doc20613\n",
      "  \u001b[93mDocument: sharon stone is another gun in the old west town it seems that she is here to pay off an old score that has haunted her since she was a child she becomes swept up in a deadly quick-draw contest where anybody can challenge anybody in the windy dusty streets the fighters must not draw until the clock makes the first chime of the hour whoever is standing after the draw is the winner the prize is $123,000 the lawless town of redemption is ruled by a despicable ironfisted gunman called john herod who takes a lot to scare him hackman plays pretty well the kind people hate he is, here, a fearless, sadistic, cold-blooded killer in charge of everything, who decides who lives or who dies herod wants a preacher in the tournament  even if he has to beat, kick, and knock him to the ground to force him back into it cort humiliated and chained out by the fountainused to be pretty fast, faster than herod but now he wouldn't hurt a fly he is a man of peace who has renounced violence years ago he was an outlaw in fact, he was only a kid when he hitched up with herod he singled him out because he was a little smarter, a little faster than most now, he must revert to his former believes to survive as cort, russell crowe is saintly when compared to the movie's real villain cort tries to redeem himself, but gets enticed into the killing by herod who is trying to prove that he's a fraud...several other men were just running a little errand for herod but herod made an example of them all: the buffoon card shark (lance henriksen); the hired gun moseying into town to kill (keith david); the teenager gunslinger who thinks he is on a different level (leonardo dicaprio).raimi succeeds through his shots of each gunfighter to show the worried and scared faces of each gunfighter, the clock counting away the time, and herod's magnified evil smile\u001b[0m\n",
      "  Distance: 1.4412\n",
      "--------------------------------------------------\n",
      "Result 2:\n",
      "  Movie Name: The Quick and the Dead\n",
      "  \u001b[96mType: Description\u001b[0m\n",
      "  Genre: ['Action', 'Drama', 'Western']\n",
      "  Rating: 7.0\n",
      "  doc_id: doc20613\n",
      "  \u001b[93mDocument: a female gunfighter returns to a frontier town where a dueling tournament is being held, which she enters in an effort to avenge her father's death.\u001b[0m\n",
      "  Distance: 1.6496\n",
      "--------------------------------------------------\n",
      "Result 3:\n",
      "  Movie Name: The Quick and the Dead\n",
      "  \u001b[96mType: emotion\u001b[0m\n",
      "  Genre: ['Action', 'Drama', 'Western']\n",
      "  Rating: 7.0\n",
      "  doc_id: doc20613\n",
      "  \u001b[93mDocument: anticipation\u001b[0m\n",
      "  Distance: 1.8639\n",
      "--------------------------------------------------\n"
     ]
    }
   ],
   "source": [
    "results = collection.query(\n",
    "    query_texts=[\"Main character name in 'The Quick and the Dead'.\"],\n",
    "    n_results=3,\n",
    "    where={\"name\":\"The Quick and the Dead\"}\n",
    ")\n",
    "\n",
    "pretty_print_results(results)"
   ]
  },
  {
   "cell_type": "code",
   "execution_count": 217,
   "id": "ef4898ba",
   "metadata": {},
   "outputs": [
    {
     "name": "stdout",
     "output_type": "stream",
     "text": [
      "Found 3 matching results:\n",
      "\n",
      "Result 1:\n",
      "  Movie Name: Little Women\n",
      "  \u001b[96mType: Reviews\u001b[0m\n",
      "  Genre: ['Drama', 'Family', 'Romance']\n",
      "  Rating: 8.0\n",
      "  doc_id: doc11144\n",
      "  \u001b[93mDocument: i saw little women tonight courtesy of a preview at my local theater. it was cleverly written by greta gerwig especially her use of flashbacks to tell the traditional story interspersed with a later one instead of a strictly linear retelling. the entire cast was outstanding with saoirse ronan leading the way. definitely worth paying for!\u001b[0m\n",
      "  Distance: 0.8596\n",
      "--------------------------------------------------\n",
      "Result 2:\n",
      "  Movie Name: Little Women\n",
      "  \u001b[96mType: Reviews\u001b[0m\n",
      "  Genre: ['Drama', 'Family', 'Romance']\n",
      "  Rating: 9.0\n",
      "  doc_id: doc11146\n",
      "  \u001b[93mDocument: the newest adaptation of louisa may alcott's classic novel, \"little women,\" was the best version i have ever seen. directed by greta gerwig, the film stars saoirse ronan as jo march, emma watson as meg, florence pugh as amy, eliza scanlen as beth, and laura dern as marmee. timothée chalamet stars as laurie, chris cooper is mr. laurence, and meryl streep as aunt march.the entire cast is stupendous. ms. ronan stands out in her tour de force performance as jo, the independent writer, who refuses to marry, and is determined to make her own path. she unflinchingly remains true to herself, her family and her work as both a writer and a teacher.the main difference between this adaptation and its predecessors is the stream of consciousness approach as the story moves between the present day march family, and the stories of growing up together. parallels between the challenges when they were children and the struggles of adulthood weave together to tell their story both now and then. gerwig and her team does a masterful job of storytelling to balance it all in a cohesive manner that holds the audience's attention and intrigue, even if most viewers already know the original story.to enhance the superb storytelling, the film's cinematography and costume design, recreating 19th century new england, was a bright spot in this visually captivating film. i wouldn't be surprised if this film was among the select few chosen for nominations in both categories at this year's oscars.\u001b[0m\n",
      "  Distance: 1.0503\n",
      "--------------------------------------------------\n",
      "Result 3:\n",
      "  Movie Name: Little Women\n",
      "  \u001b[96mType: Description\u001b[0m\n",
      "  Genre: ['Drama', 'Family', 'Romance']\n",
      "  Rating: 5.0\n",
      "  doc_id: doc11124\n",
      "  \u001b[93mDocument: a chronicle of the lives of sisters growing up in 19th-century new england.\u001b[0m\n",
      "  Distance: 1.1695\n",
      "--------------------------------------------------\n"
     ]
    }
   ],
   "source": [
    "results = collection.query(\n",
    "    query_texts=[\"Key subjects in 'Little Women'.\"],\n",
    "    n_results=3,\n",
    "    where={\"name\":\"Little Women\"}\n",
    ")\n",
    "\n",
    "pretty_print_results(results)"
   ]
  },
  {
   "cell_type": "code",
   "execution_count": 218,
   "id": "9a353d39",
   "metadata": {},
   "outputs": [
    {
     "name": "stdout",
     "output_type": "stream",
     "text": [
      "Found 5 matching results:\n",
      "\n",
      "Result 1:\n",
      "  Movie Name: Pride and Prejudice and Zombies\n",
      "  \u001b[96mType: Reviews\u001b[0m\n",
      "  Genre: ['Romance', 'Horror', 'Comedy', 'Thriller']\n",
      "  Rating: 9.0\n",
      "  doc_id: doc40492\n",
      "  \u001b[93mDocument: my disclaimer is this: i tend to rate a bit high because i rate almost purely on how much i enjoyed a film; i'm as far from a critic or 'movie snob' as one could possibly be. my rating reflects pure enjoyment and if it's worth spending the money to see at the theater. in my opinion, it is!the movie is truly pride and prejudice...and zombies; it follows the basic outline of the p&p novel, even some of the same dialog, but throws in zombies. personally, i loved the book and i loved the keira knightly film and i will admit it took me about 10 minutes or so to adjust to what i was seeing; but i quickly became immersed. the action is very well done and if you're a fan of women being in charge in an action movie then you will really like this!if you're a fan of matt smith then this is a must see, i've never watched doctor who, i'm not a fan of him (just b/c i haven't seen him in things) but he stole every scene he was in, he was excellent. i purposely try to keep my reviews vague so as not to give anything away; the bottom line is this: if you're in the mood for a fun night with a movie with a crazy premise and some good action then i highly recommend it!i am quite surprised by the low rating currently (5.4); i imagine it is people who don't like seeing the novel turned into something with zombies. at the end of the screening i was attending there was audience applause and everyone genuinely seemed to enjoy it!p.s. the current voting breakdown has 18%(!) of 1 votes! so take that into consideration.p.s. if you don't like horror, i personally wouldn't classify this as \"horror\" but more \"action\"\u001b[0m\n",
      "  Distance: 1.0922\n",
      "--------------------------------------------------\n",
      "Result 2:\n",
      "  Movie Name: Manhattan\n",
      "  \u001b[96mType: Reviews\u001b[0m\n",
      "  Genre: ['Comedy', 'Drama', 'Romance']\n",
      "  Rating: 6.0\n",
      "  doc_id: doc2783\n",
      "  \u001b[93mDocument: on the basis of one viewing about 20 years ago, i always considered this my favorite woody allen film. upon further review, i am not so impressed. the cinematography is wonderful (i'm a sucker for new york, too), the acting is ok (mariel hemingway better than ok), and there are some good one liners, but, overall i found it boring and self-indulgent, especially in the directing. this film has no real reason for being...it's ultimately inconsequential. that makes me sad and now i have to watch my other favorites to see if they hold up. i still have hopes for hannah, misdemeanors, purple rose, & love & death. this one isn't in the pantheon anymore.\u001b[0m\n",
      "  Distance: 1.0923\n",
      "--------------------------------------------------\n",
      "Result 3:\n",
      "  Movie Name: Solo\n",
      "  \u001b[96mType: Reviews\u001b[0m\n",
      "  Genre: ['Action', 'Adventure', 'Science Fiction', 'Thriller']\n",
      "  Rating: 3.0\n",
      "  doc_id: doc1639\n",
      "  \u001b[93mDocument: you know i only watched 15 minutes of this film, so i can't really describe how great it is. i mean the concept alone is so original and intriguing it just did not let me go. then there is the mass of academy award winning people involved here plus the academy award nominated director. you just can't miss. i mean imagine it is the middle of the night and you're not sleepy yet. this film comes on. you watch it and are shocked. it is so brilliant, so original it is so great. it will feel to you that half an hour later you've turned off the screen, but as you go to your bed you see it's only 15 minutes after midnight. enjoy!!!3 out of 10\u001b[0m\n",
      "  Distance: 1.1177\n",
      "--------------------------------------------------\n",
      "Result 4:\n",
      "  Movie Name: Love\n",
      "  \u001b[96mType: Reviews\u001b[0m\n",
      "  Genre: ['Drama', 'Science Fiction']\n",
      "  Rating: 4.0\n",
      "  doc_id: doc28498\n",
      "  \u001b[93mDocument: typically i have a soft spot in my heart for indie and low budget films. when i saw that this film had a decent user rating (at the time of this writing) i thought i might be in for a treat much as i was when i watched other great sci-fi indie films such as \"moon\", \"pandorum\", \"the man from earth\", \"melancholia\" and \"another earth\".sadly, i had to force myself to watch this through to its end, in the hope there would be something redeeming to justify the agony of watching what i had already put myself through. while i did not anticipate the \"revelation\" at the end, it certainly did not leave me whole.great films, even if only moderately good, take you on a ride of ups and downs i am very sorry to say this was just plain boring and full of unnecessary scenes and shots.\u001b[0m\n",
      "  Distance: 1.1204\n",
      "--------------------------------------------------\n",
      "Result 5:\n",
      "  Movie Name: Love\n",
      "  \u001b[96mType: Reviews\u001b[0m\n",
      "  Genre: ['Drama', 'Science Fiction']\n",
      "  Rating: 4.0\n",
      "  doc_id: doc28501\n",
      "  \u001b[93mDocument: typically i have a soft spot in my heart for indie and low budget films. when i saw that this film had a decent user rating (at the time of this writing) i thought i might be in for a treat much as i was when i watched other great sci-fi indie films such as \"moon\", \"pandorum\", \"the man from earth\", \"melancholia\" and \"another earth\".sadly, i had to force myself to watch this through to its end, in the hope there would be something redeeming to justify the agony of watching what i had already put myself through. while i did not anticipate the \"revelation\" at the end, it certainly did not leave me whole.great films, even if only moderately good, take you on a ride of ups and downs i am very sorry to say this was just plain boring and full of unnecessary scenes and shots.\u001b[0m\n",
      "  Distance: 1.1204\n",
      "--------------------------------------------------\n"
     ]
    }
   ],
   "source": [
    "results = collection.query(\n",
    "    query_texts=[\"Which reviews has the most intense feeling?\"],\n",
    "    n_results=5,\n",
    ")\n",
    "\n",
    "pretty_print_results(results)"
   ]
  },
  {
   "cell_type": "code",
   "execution_count": 219,
   "id": "5251f69b",
   "metadata": {},
   "outputs": [
    {
     "name": "stdout",
     "output_type": "stream",
     "text": [
      "Found 3 matching results:\n",
      "\n",
      "Result 1:\n",
      "  Movie Name: Safety Not Guaranteed\n",
      "  \u001b[96mType: Reviews\u001b[0m\n",
      "  Genre: ['Comedy', 'Romance', 'Science Fiction', 'Drama']\n",
      "  Rating: 10.0\n",
      "  doc_id: doc26540\n",
      "  \u001b[93mDocument: with a budget of perhaps 10 box tops from some cocoa puffs, this film managed to be the most entertaining thing i've seen all year. the entire cast fits together and play off each other in a delightful way and the ending is great without being sappy sweet or maudlin.i don't want to get into the plot, but aubrey plaza's debut as a lead actress is right on target and i see much success for her in the future in a lot more movies. mark duplass and jake johnson are excellent, and that new kid karan soni...well, you'll be seeing more of him in the future is my guess.this is a film i would see again and again, each time it appears in the future. i would take a date to it, i would take kids to it, i would go by myself.i would see it in a box, i would see it with a fox, i would see it at your house, i would see it with a mouse, i would see it here or there, i would see it anywhere! you'll like safety not guaranteed, go see it now, be safe, godspeed!\u001b[0m\n",
      "  Distance: 0.9739\n",
      "--------------------------------------------------\n",
      "Result 2:\n",
      "  Movie Name: Sleeping Beauty\n",
      "  \u001b[96mType: Description\u001b[0m\n",
      "  Genre: ['Drama', 'Romance']\n",
      "  Rating: 1.0\n",
      "  doc_id: doc25386\n",
      "  \u001b[93mDocument: a futuristic version of the classic fairy tale.\u001b[0m\n",
      "  Distance: 0.9864\n",
      "--------------------------------------------------\n",
      "Result 3:\n",
      "  Movie Name: Bedtime Stories\n",
      "  \u001b[96mType: Description\u001b[0m\n",
      "  Genre: ['Fantasy', 'Comedy', 'Family', 'Romance']\n",
      "  Rating: 5.0\n",
      "  doc_id: doc20191\n",
      "  \u001b[93mDocument: about desire, obsession and ultimately, redemption. the film explores the dark and bizarre possibilities of love and relationships, while depicting the plight of women in a world where discrimination and violence against them never stops.\u001b[0m\n",
      "  Distance: 0.9979\n",
      "--------------------------------------------------\n"
     ]
    }
   ],
   "source": [
    "results = collection.query(\n",
    "    query_texts=[\"what movie is about future?\"],\n",
    "    n_results=3,\n",
    ")\n",
    "\n",
    "pretty_print_results(results)"
   ]
  },
  {
   "cell_type": "code",
   "execution_count": 220,
   "id": "60590e2c",
   "metadata": {},
   "outputs": [
    {
     "name": "stdout",
     "output_type": "stream",
     "text": [
      "Found 3 matching results:\n",
      "\n",
      "Result 1:\n",
      "  Movie Name: Hero\n",
      "  \u001b[96mType: Reviews\u001b[0m\n",
      "  Genre: ['Romance']\n",
      "  Rating: 5.0\n",
      "  doc_id: doc39923\n",
      "  \u001b[93mDocument: in this romantic action film, the daughter of an inspector general (played by athiya shetty) and the son of a notorious criminal (played by sooraj pancholi) fall in love. naturally, there is no easy path for such a romance.from the clips and descriptions, i expected a much more romantic and emotional film, and was disappointed with the actual plot. shetty and pancholi, both in debut roles, had good chemistry. pancholi was excellent, but i didn't feel that shetty gave a good performance. her unappealing character made a dramatic and unbelievable turn around from spoiled brat to sensitive adult, showing a weakness in story writing. the fight scenes were well-done, but the choreography and music were mediocre (with the exception of the fantastic \"main hoon hero tera\"). honestly, the best part of this average movie was during the credits, when salman khan sings \"main hoon hero tera\" in a charming video. the movie is worth watching for that alone, but don't expect a great deal from the film itself.\u001b[0m\n",
      "  Distance: 1.3313\n",
      "--------------------------------------------------\n",
      "Result 2:\n",
      "  Movie Name: Paradise\n",
      "  \u001b[96mType: Reviews\u001b[0m\n",
      "  Genre: ['Romance']\n",
      "  Rating: 2.0\n",
      "  doc_id: doc33696\n",
      "  \u001b[93mDocument: the initial premise is a good one - how a tragedy can make someone lose his/her faith and the principles on which he/she has based living. and then (about 10 minutes into the movie) it goes off the tracks and devolves into a bad after school special - a really, really bad one.lamb (a very bad character name) is supposed to have been protected from the evils of pop culture but when she travels through vegas she seems to know quite a few pop culture references. the bad girl activities which she undertakes are lame and tame. the \"jokes\" are even worse \"i'll have the peach shnap\" as she misreads the bottle behind the bar. ha ha.the backstory for 2 people who befriend her are glossed over - thereby wasting the talents of octavia spencer (and maybe russell brand if i am being generous in the definition of \"talent\"). oh yeah, lamb's parents (the extremely talented holly hunter and nick offerman) barely register any screen time or decent dialog and are additional examples of wasted opportunities.sure, lamb grows some through her experiences but it all comes too easily and too readily to her. and the audience can see the resolution way before it happens.such a disappointment from a talented writer and director, and a gifted cast so badly misused.\u001b[0m\n",
      "  Distance: 1.3815\n",
      "--------------------------------------------------\n",
      "Result 3:\n",
      "  Movie Name: Hero\n",
      "  \u001b[96mType: Description\u001b[0m\n",
      "  Genre: ['Romance']\n",
      "  Rating: 3.0\n",
      "  doc_id: doc39879\n",
      "  \u001b[93mDocument: a boy and a girl find themselves stuck in a whirlpool of such intense love that they would do anything, go to any extent and face all odds for the one they love.\u001b[0m\n",
      "  Distance: 1.4066\n",
      "--------------------------------------------------\n"
     ]
    }
   ],
   "source": [
    "results = collection.query(\n",
    "    query_texts=[\"Show some discussions in romantic comedies.\"],\n",
    "    n_results=3,\n",
    "    where={\"genre\": \"['Romance']\"}\n",
    "    \n",
    ")\n",
    "\n",
    "pretty_print_results(results)"
   ]
  },
  {
   "cell_type": "markdown",
   "id": "7e632267",
   "metadata": {},
   "source": [
    "### Try to delete every record in collection."
   ]
  },
  {
   "cell_type": "code",
   "execution_count": 221,
   "id": "395e9fea",
   "metadata": {},
   "outputs": [],
   "source": [
    "# delect record by its id\n",
    "def delete_collection(record_id, coll=collection):\n",
    "    coll.delete(\n",
    "        ids=[record_id]\n",
    "    )"
   ]
  },
  {
   "cell_type": "code",
   "execution_count": 222,
   "id": "ce810770",
   "metadata": {},
   "outputs": [],
   "source": [
    "# print(\"Before deleting; Number of record in this collection:\", collection.count())\n",
    "# for index, row in df_shuffled.iterrows():\n",
    "#     for col_name in field_in_documents:\n",
    "#         delete_collection(\"doc\" + str(index) + \"_\" + col_name, collection)\n",
    "# print(\"After deleting; Number of record in this collection:\", collection.count())"
   ]
  },
  {
   "cell_type": "markdown",
   "id": "cad91597",
   "metadata": {},
   "source": [
    "#### Free some not used space in db."
   ]
  },
  {
   "cell_type": "code",
   "execution_count": 223,
   "id": "c4d90c4b",
   "metadata": {},
   "outputs": [],
   "source": [
    "# import sqlite3\n",
    "\n",
    "# conn = sqlite3.connect(\"HW4_4_db/chroma.sqlite3\")\n",
    "# cur = conn.cursor()\n",
    "\n",
    "# cur.execute(\"VACUUM\")\n",
    "# conn.commit()\n",
    "# conn.close()"
   ]
  }
 ],
 "metadata": {
  "kernelspec": {
   "display_name": "g_project_env1",
   "language": "python",
   "name": "python3"
  },
  "language_info": {
   "codemirror_mode": {
    "name": "ipython",
    "version": 3
   },
   "file_extension": ".py",
   "mimetype": "text/x-python",
   "name": "python",
   "nbconvert_exporter": "python",
   "pygments_lexer": "ipython3",
   "version": "3.11.7"
  }
 },
 "nbformat": 4,
 "nbformat_minor": 5
}
