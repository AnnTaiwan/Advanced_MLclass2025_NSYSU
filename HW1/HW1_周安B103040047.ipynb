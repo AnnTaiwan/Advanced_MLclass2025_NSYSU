{
 "cells": [
  {
   "cell_type": "markdown",
   "metadata": {},
   "source": [
    "## 進階機器學習 HW1 \n",
    "* 學號: B103040047\n",
    "* 姓名: 周安"
   ]
  },
  {
   "cell_type": "markdown",
   "metadata": {},
   "source": [
    "### HW1-1"
   ]
  },
  {
   "cell_type": "markdown",
   "metadata": {},
   "source": [
    "Load dataset"
   ]
  },
  {
   "cell_type": "code",
   "execution_count": 127,
   "metadata": {},
   "outputs": [],
   "source": [
    "from sklearn import datasets \n",
    "circles_data, circles_data_labels = datasets.make_circles(n_samples=100, factor=0.1, noise=0.1) "
   ]
  },
  {
   "cell_type": "code",
   "execution_count": 128,
   "metadata": {},
   "outputs": [
    {
     "name": "stdout",
     "output_type": "stream",
     "text": [
      "[[ 0.01004783 -0.17510486]\n",
      " [ 0.14058191  0.16717858]\n",
      " [-0.059743    0.11848299]\n",
      " [ 0.71938348 -0.59898403]\n",
      " [ 0.87586276 -0.79693694]\n",
      " [ 0.28238185 -0.8096356 ]\n",
      " [-0.88398798  0.19969581]\n",
      " [-0.04821718 -0.06689042]\n",
      " [ 0.35579647  1.02466875]\n",
      " [ 0.92202981 -0.08438964]] [1 1 1 0 0 0 0 1 0 0]\n",
      "(100, 2)\n",
      "(100,)\n"
     ]
    }
   ],
   "source": [
    "print(circles_data[:10], circles_data_labels[:10])\n",
    "print(circles_data.shape)\n",
    "print(circles_data_labels.shape)"
   ]
  },
  {
   "cell_type": "code",
   "execution_count": 129,
   "metadata": {},
   "outputs": [
    {
     "name": "stdout",
     "output_type": "stream",
     "text": [
      "{0, 1}\n"
     ]
    }
   ],
   "source": [
    "print(set(circles_data_labels))\n",
    "# two kinds of labels"
   ]
  },
  {
   "cell_type": "code",
   "execution_count": 130,
   "metadata": {},
   "outputs": [
    {
     "name": "stdout",
     "output_type": "stream",
     "text": [
      "Train on cuda.\n"
     ]
    }
   ],
   "source": [
    "import torch.nn as nn\n",
    "from torch.utils.data import DataLoader, TensorDataset, random_split\n",
    "import torch\n",
    "import numpy as np\n",
    "\n",
    "# Set random seed for reproducibility\n",
    "seed = 42\n",
    "torch.manual_seed(seed)\n",
    "np.random.seed(seed)\n",
    "\n",
    "device = torch.device('cuda' if torch.cuda.is_available() else 'cpu')\n",
    "print(f\"Train on {device}.\")"
   ]
  },
  {
   "cell_type": "markdown",
   "metadata": {},
   "source": [
    "Create a model which only contains fully-connected layers."
   ]
  },
  {
   "cell_type": "code",
   "execution_count": 131,
   "metadata": {},
   "outputs": [],
   "source": [
    "# Model\n",
    "class FCL(nn.Module):\n",
    "    def __init__(self):\n",
    "        super().__init__()\n",
    "        self.linear_layers = nn.Sequential(\n",
    "            nn.Linear(2, 128),\n",
    "            nn.ReLU(),\n",
    "            nn.Linear(128, 256),\n",
    "            nn.ReLU(),\n",
    "            nn.Linear(256, 512),\n",
    "            nn.ReLU(),\n",
    "            nn.Linear(512, 1024),\n",
    "            nn.ReLU(),\n",
    "            nn.Linear(1024, 512),\n",
    "            nn.ReLU(),\n",
    "            nn.Linear(512, 256),\n",
    "            nn.ReLU(),\n",
    "            nn.Linear(256, 128),\n",
    "            nn.ReLU(),\n",
    "            nn.Linear(128, 2)  # output 2 label\n",
    "        )\n",
    "    def forward(self, x):\n",
    "        return self.linear_layers(x)"
   ]
  },
  {
   "cell_type": "code",
   "execution_count": 132,
   "metadata": {},
   "outputs": [],
   "source": [
    "# hyper parameters\n",
    "LR = 0.0007\n",
    "batch_size_train = 10\n",
    "batch_size_val = 10\n",
    "NUM_EPOCHS = 20\n",
    "\n",
    "model_1 = FCL().to(device)\n",
    "# set loss function\n",
    "criterion = nn.CrossEntropyLoss()\n",
    "# set optimizer\n",
    "optimizer = torch.optim.Adam(model_1.parameters(), lr=LR, betas=(0.9, 0.999))    "
   ]
  },
  {
   "cell_type": "markdown",
   "metadata": {},
   "source": [
    "Create dataloader"
   ]
  },
  {
   "cell_type": "code",
   "execution_count": 133,
   "metadata": {},
   "outputs": [
    {
     "name": "stdout",
     "output_type": "stream",
     "text": [
      "Training samples: 70, Validation samples: 30\n"
     ]
    }
   ],
   "source": [
    "# convert np.array into torch.tensor\n",
    "circles_data = torch.tensor(circles_data, dtype=torch.float32)\n",
    "# Convert circles_data_labels to a tensor (ensure it's of type long for classification tasks)\n",
    "circles_data_labels = torch.tensor(circles_data_labels, dtype=torch.long)\n",
    "\n",
    "# Assuming circles_data is a list of tensors\n",
    "dataset = TensorDataset(circles_data, circles_data_labels)\n",
    "\n",
    "# Define split sizes\n",
    "train_size = int(0.7 * len(dataset))  # 70% for training\n",
    "val_size = len(dataset) - train_size  # Remaining 30% for validation\n",
    "\n",
    "# Split dataset\n",
    "train_dataset, val_dataset = random_split(dataset, [train_size, val_size])\n",
    "\n",
    "# Create DataLoaders\n",
    "train_dataloader = DataLoader(train_dataset, batch_size=batch_size_train, shuffle=True, pin_memory=True)\n",
    "val_dataloader = DataLoader(val_dataset, batch_size=batch_size_val, shuffle=False, pin_memory=True)  # No shuffle for validation\n",
    "\n",
    "# Check dataset sizes\n",
    "print(f\"Training samples: {len(train_dataset)}, Validation samples: {len(val_dataset)}\")"
   ]
  },
  {
   "cell_type": "code",
   "execution_count": 134,
   "metadata": {},
   "outputs": [],
   "source": [
    "# train and val func for one epoch\n",
    "def train_epoch(train_dataloader):\n",
    "    train_loss = 0.0\n",
    "    train_acc = 0.0\n",
    "    model_1.train()\n",
    "    for x, y in train_dataloader:\n",
    "        x, y = x.to(device), y.to(device)\n",
    "        # clear gradients\n",
    "        optimizer.zero_grad()\n",
    "        # predicting\n",
    "        y_pred = model_1(x)\n",
    "        # see loss\n",
    "        loss = criterion(y_pred, y)\n",
    "        loss.backward()\n",
    "        # update the parameters\n",
    "        optimizer.step()\n",
    "\n",
    "        train_loss += loss.item()\n",
    "        probs = torch.nn.functional.softmax(y_pred, dim=1)\n",
    "        train_acc += torch.sum(torch.argmax(probs, dim=1) == y).item()\n",
    "    return train_acc / len(train_dataloader.dataset), train_loss / len(train_dataloader.dataset)\n",
    "\n",
    "def val_epoch(val_dataloader):\n",
    "    val_loss = 0.0\n",
    "    val_acc = 0.0\n",
    "    model_1.eval()\n",
    "    with torch.no_grad():\n",
    "        for x, y in val_dataloader:\n",
    "            x, y = x.to(device), y.to(device)\n",
    "            # predicting\n",
    "            y_pred = model_1(x)\n",
    "            # see loss\n",
    "            loss = criterion(y_pred, y)\n",
    "            \n",
    "            val_loss += loss.item()\n",
    "            probs = torch.nn.functional.softmax(y_pred, dim=1)\n",
    "            val_acc += torch.sum(torch.argmax(probs, dim=1) == y).item()\n",
    "    return val_acc / len(val_dataloader.dataset), val_loss / len(val_dataloader.dataset)"
   ]
  },
  {
   "cell_type": "code",
   "execution_count": 135,
   "metadata": {},
   "outputs": [
    {
     "name": "stdout",
     "output_type": "stream",
     "text": [
      "Epoch[ 1/20] : train_acc = 0.5429, train_loss = 0.0682, val_acc = 0.6000, val_loss = 0.0666\n",
      "\t\u001b[33m====Save model parameters in fcl_model.pth when val_acc is 0.6000====\u001b[0m\n",
      "Epoch[ 2/20] : train_acc = 0.9714, train_loss = 0.0557, val_acc = 1.0000, val_loss = 0.0330\n",
      "\t\u001b[33m====Save model parameters in fcl_model.pth when val_acc is 1.0000====\u001b[0m\n",
      "Epoch[ 3/20] : train_acc = 1.0000, train_loss = 0.0114, val_acc = 1.0000, val_loss = 0.0002\n",
      "Epoch[ 4/20] : train_acc = 0.9857, train_loss = 0.0021, val_acc = 1.0000, val_loss = 0.0009\n",
      "Epoch[ 5/20] : train_acc = 0.9857, train_loss = 0.0043, val_acc = 1.0000, val_loss = 0.0000\n",
      "Epoch[ 6/20] : train_acc = 0.9714, train_loss = 0.0067, val_acc = 1.0000, val_loss = 0.0000\n",
      "Epoch[ 7/20] : train_acc = 0.9857, train_loss = 0.0290, val_acc = 0.9333, val_loss = 0.0371\n",
      "Epoch[ 8/20] : train_acc = 0.9714, train_loss = 0.0212, val_acc = 1.0000, val_loss = 0.0006\n",
      "Epoch[ 9/20] : train_acc = 0.9571, train_loss = 0.0115, val_acc = 1.0000, val_loss = 0.0013\n",
      "Epoch[10/20] : train_acc = 1.0000, train_loss = 0.0015, val_acc = 1.0000, val_loss = 0.0021\n",
      "Epoch[11/20] : train_acc = 1.0000, train_loss = 0.0013, val_acc = 1.0000, val_loss = 0.0010\n",
      "Epoch[12/20] : train_acc = 1.0000, train_loss = 0.0004, val_acc = 1.0000, val_loss = 0.0002\n",
      "Epoch[13/20] : train_acc = 1.0000, train_loss = 0.0001, val_acc = 1.0000, val_loss = 0.0000\n",
      "Epoch[14/20] : train_acc = 1.0000, train_loss = 0.0000, val_acc = 1.0000, val_loss = 0.0000\n",
      "Epoch[15/20] : train_acc = 1.0000, train_loss = 0.0000, val_acc = 1.0000, val_loss = 0.0000\n",
      "Epoch[16/20] : train_acc = 1.0000, train_loss = 0.0000, val_acc = 1.0000, val_loss = 0.0000\n",
      "Epoch[17/20] : train_acc = 1.0000, train_loss = 0.0000, val_acc = 1.0000, val_loss = 0.0000\n",
      "Epoch[18/20] : train_acc = 1.0000, train_loss = 0.0000, val_acc = 1.0000, val_loss = 0.0000\n",
      "Epoch[19/20] : train_acc = 1.0000, train_loss = 0.0000, val_acc = 1.0000, val_loss = 0.0000\n",
      "Epoch[20/20] : train_acc = 1.0000, train_loss = 0.0000, val_acc = 1.0000, val_loss = 0.0000\n"
     ]
    }
   ],
   "source": [
    "# Start training and testing\n",
    "max_accuracy = 0\n",
    "for i in range(NUM_EPOCHS):\n",
    "    train_acc, train_loss = train_epoch(train_dataloader)\n",
    "    val_acc, val_loss = val_epoch(val_dataloader)\n",
    "    \n",
    "    print(\"Epoch[{:>2d}/{:>2d}] : train_acc = {:.4f}, train_loss = {:.4f}, val_acc = {:.4f}, val_loss = {:.4f}\".format(i+1, NUM_EPOCHS, train_acc, train_loss, val_acc, val_loss))\n",
    "    # update model pth when larger val_acc happens\n",
    "    if(val_acc > max_accuracy):\n",
    "        max_accuracy = val_acc\n",
    "        save_parameters = True\n",
    "        if save_parameters:\n",
    "            path = 'fcl_model.pth'\n",
    "            torch.save(model_1.state_dict(), path)\n",
    "            print(\"\\t\\33[33m====Save model parameters in {:s} when val_acc is {:.4f}====\\33[0m\".format(path, val_acc))\n"
   ]
  },
  {
   "cell_type": "markdown",
   "metadata": {},
   "source": [
    "Load back the best model"
   ]
  },
  {
   "cell_type": "code",
   "execution_count": 136,
   "metadata": {},
   "outputs": [
    {
     "name": "stdout",
     "output_type": "stream",
     "text": [
      "Load pth from fcl_model.pth\n"
     ]
    }
   ],
   "source": [
    "model_test = FCL()\n",
    "# Move model to device\n",
    "model_test.to(device)\n",
    "pth_path = path\n",
    "state_dict = torch.load(pth_path)\n",
    "model_test.load_state_dict(state_dict)\n",
    "print(f\"Load pth from {pth_path}\")"
   ]
  },
  {
   "cell_type": "markdown",
   "metadata": {},
   "source": [
    "Draw the distribution image"
   ]
  },
  {
   "cell_type": "code",
   "execution_count": 137,
   "metadata": {},
   "outputs": [
    {
     "name": "stdout",
     "output_type": "stream",
     "text": [
      "torch.Size([40000, 2])\n",
      "(200, 200)\n"
     ]
    }
   ],
   "source": [
    "# Create a dense grid of (x, y) points\n",
    "x_min, x_max = circles_data[:, 0].min() - 0.2, circles_data[:, 0].max() + 0.2\n",
    "y_min, y_max = circles_data[:, 1].min() - 0.2, circles_data[:, 1].max() + 0.2\n",
    "# Create 200x200 x-coordinates and y-coordinates\n",
    "xx, yy = np.meshgrid(np.linspace(x_min, x_max, 200), np.linspace(y_min, y_max, 200))\n",
    "# xx's shape is [200, 200]\n",
    "\n",
    "# Convert this gridpoints into dataloader for predicting\n",
    "grid_points = torch.tensor(np.c_[xx.ravel(), yy.ravel()], dtype=torch.float32) # np.c_ means concatenate. Here concatenate x and y data\n",
    "test_dataset = TensorDataset(grid_points, torch.tensor(np.array([0 for i in range(len(grid_points))]), dtype=torch.long))\n",
    "test_dataloader = DataLoader(test_dataset, batch_size=200, shuffle=False, pin_memory=True)  # No shuffle for validation\n",
    "\n",
    "print(grid_points.shape)\n",
    "\n",
    "# Initialize the list\n",
    "predicted_classes = []\n",
    "# Set the model to evaluation mode\n",
    "model_test.eval()\n",
    "# Perform prediction without calculating gradients\n",
    "with torch.no_grad():\n",
    "    for x, _ in test_dataloader:\n",
    "        x = x.to(device)\n",
    "        predictions = model_test(x)\n",
    "        \n",
    "        # Get the predicted class (index of maximum probability)\n",
    "        predicted_classes.append(torch.argmax(predictions.cpu(), dim=1).numpy())\n",
    "\n",
    "# Concatenate the list of predictions into a single NumPy array\n",
    "predicted_classes = np.concatenate(predicted_classes)\n",
    "\n",
    "# Reshape the predictions to match the grid shape\n",
    "predicted_classes = predicted_classes.reshape(xx.shape)\n",
    "\n",
    "print(predicted_classes.shape)\n"
   ]
  },
  {
   "cell_type": "code",
   "execution_count": 138,
   "metadata": {},
   "outputs": [
    {
     "data": {
      "image/png": "[encoded data removed]",
      "text/plain": [
       "<Figure size 500x500 with 1 Axes>"
      ]
     },
     "metadata": {},
     "output_type": "display_data"
    }
   ],
   "source": [
    "import matplotlib.pyplot as plt\n",
    "# Create a custom colormap using the listed colors\n",
    "from matplotlib.colors import ListedColormap\n",
    "custom_colors = ['orange', 'yellow']  # Add more colors as needed\n",
    "cmap = ListedColormap(custom_colors)\n",
    "\n",
    "circles_data_0 = circles_data[circles_data_labels == 0]\n",
    "circles_data_1 = circles_data[circles_data_labels == 1]\n",
    "plt.figure(figsize=(5, 5))\n",
    "# draw scatter image\n",
    "plt.scatter(circles_data_0[:, 0], circles_data_0[:, 1], color='blue', alpha=0.5, label=\"Class 0\")\n",
    "plt.scatter(circles_data_1[:, 0], circles_data_1[:, 1], color='red', alpha=0.5, label=\"Class 1\")\n",
    "plt.contourf(xx, yy, predicted_classes, cmap=cmap, alpha=0.3)  # Background color\n",
    "\n",
    "plt.xlabel(\"X-axis\")\n",
    "plt.ylabel(\"Y-axis\")\n",
    "plt.title(\"2D Scatter Plot\")\n",
    "\n",
    "# Add legend to explain color coding\n",
    "plt.legend(loc=\"upper right\")\n",
    "plt.show()"
   ]
  },
  {
   "cell_type": "markdown",
   "metadata": {},
   "source": [
    "### HW1-2"
   ]
  },
  {
   "cell_type": "code",
   "execution_count": 139,
   "metadata": {},
   "outputs": [],
   "source": [
    "class CNN(nn.Module):\n",
    "    def __init__(self):\n",
    "        super().__init__()\n",
    "        self.conv = nn.Conv2d(1, 1, 3)\n",
    "        self.linear = nn.Linear(4, 2) # binary classfication\n",
    "        self.sigmoid = nn.Sigmoid()\n",
    "    def forward(self, x):\n",
    "        x = self.conv(x)\n",
    "        x = self.sigmoid(x)\n",
    "        x = x.view(-1, 4)\n",
    "        x = self.linear(x)\n",
    "        x = self.sigmoid(x)\n",
    "        return x"
   ]
  },
  {
   "cell_type": "code",
   "execution_count": 140,
   "metadata": {},
   "outputs": [],
   "source": [
    "# hyper parameters\n",
    "LR = 0.001\n",
    "batch_size_train = 1\n",
    "# batch_size_val = 10\n",
    "NUM_EPOCHS = 10\n",
    "\n",
    "model_2 = CNN().to(device)\n",
    "# set loss function\n",
    "criterion_2 = nn.CrossEntropyLoss()\n",
    "# set optimizer\n",
    "optimizer_2 = torch.optim.Adam(model_2.parameters(), lr=LR, betas=(0.9, 0.999))    "
   ]
  },
  {
   "cell_type": "code",
   "execution_count": 141,
   "metadata": {},
   "outputs": [
    {
     "name": "stdout",
     "output_type": "stream",
     "text": [
      "CNN(\n",
      "  (conv): Conv2d(1, 1, kernel_size=(3, 3), stride=(1, 1))\n",
      "  (linear): Linear(in_features=4, out_features=2, bias=True)\n",
      "  (sigmoid): Sigmoid()\n",
      ")\n"
     ]
    }
   ],
   "source": [
    "print(model_2)"
   ]
  },
  {
   "cell_type": "markdown",
   "metadata": {},
   "source": [
    "Create a random data."
   ]
  },
  {
   "cell_type": "code",
   "execution_count": 142,
   "metadata": {},
   "outputs": [
    {
     "name": "stdout",
     "output_type": "stream",
     "text": [
      "A.shape is torch.Size([1, 1, 4, 4])\n",
      "tensor([[[[-0.9862, -1.2283,  1.7308,  1.0227],\n",
      "          [-1.8497, -0.3047,  0.6087,  1.5734],\n",
      "          [-1.2728, -0.0041, -0.7761,  1.4426],\n",
      "          [ 0.4690,  0.2230, -0.6563,  0.6814]]]])\n",
      "yy.shape is torch.Size([1])\n",
      "tensor([1])\n"
     ]
    }
   ],
   "source": [
    "# create a tensor which is 4x4\n",
    "# Dummy input (batch_size = 1, channels=1, height=4, width=4)\n",
    "A = torch.randn(1, 1, 4, 4)\n",
    "print(\"A.shape is\", A.shape)\n",
    "print(A)\n",
    "\n",
    "# yy is correct label\n",
    "yy = torch.randint(0, 2, (1, ), dtype=torch.long) # 0 or 1\n",
    "print(\"yy.shape is\", yy.shape)\n",
    "print(yy)\n",
    "A_dataset = TensorDataset(A, yy)\n",
    "A_dataloader = DataLoader(A_dataset, batch_size=batch_size_train, shuffle=True, pin_memory=False)"
   ]
  },
  {
   "cell_type": "code",
   "execution_count": 143,
   "metadata": {},
   "outputs": [
    {
     "name": "stdout",
     "output_type": "stream",
     "text": [
      "1\n",
      "1\n"
     ]
    }
   ],
   "source": [
    "print(len(A_dataloader))\n",
    "print(A_dataloader.batch_size)"
   ]
  },
  {
   "cell_type": "code",
   "execution_count": 144,
   "metadata": {},
   "outputs": [
    {
     "name": "stdout",
     "output_type": "stream",
     "text": [
      "tensor([[[[-0.9862, -1.2283,  1.7308,  1.0227],\n",
      "          [-1.8497, -0.3047,  0.6087,  1.5734],\n",
      "          [-1.2728, -0.0041, -0.7761,  1.4426],\n",
      "          [ 0.4690,  0.2230, -0.6563,  0.6814]]]]) tensor([1])\n"
     ]
    }
   ],
   "source": [
    "# check the dataloader info\n",
    "for a, y in A_dataloader:\n",
    "    print(a, y)\n",
    "    break"
   ]
  },
  {
   "cell_type": "markdown",
   "metadata": {},
   "source": [
    "#### 1. Get the gradient of the loss with respect to the weight w00"
   ]
  },
  {
   "cell_type": "code",
   "execution_count": 145,
   "metadata": {},
   "outputs": [],
   "source": [
    "# train and val func for one epoch\n",
    "def train_epoch_2(train_dataloader):\n",
    "    train_loss = 0.0\n",
    "    train_acc = 0.0\n",
    "    model_2.train()\n",
    "    for x, y in train_dataloader:\n",
    "        x, y = x.to(device), y.to(device)\n",
    "        # clear gradients\n",
    "        optimizer_2.zero_grad()\n",
    "        # predicting\n",
    "        y_pred = model_2(x)\n",
    "        # see loss\n",
    "        loss = criterion_2(y_pred, y)\n",
    "        loss.backward()\n",
    "\n",
    "        # In each epoch, we can get the gradient with regard to weight which .requires_grad_() automatically.\n",
    "        # Access the gradient of w00 (top-left element in the 3x3 kernel)\n",
    "        w00_grad = model_2.conv.weight.grad[0, 0, 0, 0]  # (out_channels, in_channels, kernel_h, kernel_w)\n",
    "\n",
    "        print(\"\\33[33m2-1. The gradient of the loss with respect to the weight w00: {:.6f}\\33[0m\".format(w00_grad.item()))\n",
    "        # update the parameters\n",
    "        optimizer_2.step()\n",
    "\n",
    "        train_loss += loss.item()\n",
    "        probs = torch.nn.functional.softmax(y_pred, dim=1)\n",
    "        train_acc += torch.sum(torch.argmax(probs, dim=1) == y).item()\n",
    "    return train_acc / len(train_dataloader.dataset), train_loss / len(train_dataloader.dataset)\n"
   ]
  },
  {
   "cell_type": "code",
   "execution_count": 146,
   "metadata": {},
   "outputs": [
    {
     "name": "stdout",
     "output_type": "stream",
     "text": [
      "\u001b[33m2-1. The gradient of the loss with respect to the weight w00: -0.032146\u001b[0m\n",
      "Epoch[ 1/10] : train_acc = 0.0000, train_loss = 0.6944\n",
      "\u001b[33m2-1. The gradient of the loss with respect to the weight w00: -0.031821\u001b[0m\n",
      "Epoch[ 2/10] : train_acc = 0.0000, train_loss = 0.6933\n",
      "\u001b[33m2-1. The gradient of the loss with respect to the weight w00: -0.031497\u001b[0m\n",
      "Epoch[ 3/10] : train_acc = 1.0000, train_loss = 0.6923\n",
      "\u001b[33m2-1. The gradient of the loss with respect to the weight w00: -0.031173\u001b[0m\n",
      "Epoch[ 4/10] : train_acc = 1.0000, train_loss = 0.6913\n",
      "\u001b[33m2-1. The gradient of the loss with respect to the weight w00: -0.030849\u001b[0m\n",
      "Epoch[ 5/10] : train_acc = 1.0000, train_loss = 0.6903\n",
      "\u001b[33m2-1. The gradient of the loss with respect to the weight w00: -0.030526\u001b[0m\n",
      "Epoch[ 6/10] : train_acc = 1.0000, train_loss = 0.6893\n",
      "\u001b[33m2-1. The gradient of the loss with respect to the weight w00: -0.030204\u001b[0m\n",
      "Epoch[ 7/10] : train_acc = 1.0000, train_loss = 0.6883\n",
      "\u001b[33m2-1. The gradient of the loss with respect to the weight w00: -0.029882\u001b[0m\n",
      "Epoch[ 8/10] : train_acc = 1.0000, train_loss = 0.6873\n",
      "\u001b[33m2-1. The gradient of the loss with respect to the weight w00: -0.029560\u001b[0m\n",
      "Epoch[ 9/10] : train_acc = 1.0000, train_loss = 0.6863\n",
      "\u001b[33m2-1. The gradient of the loss with respect to the weight w00: -0.029240\u001b[0m\n",
      "Epoch[10/10] : train_acc = 1.0000, train_loss = 0.6853\n"
     ]
    }
   ],
   "source": [
    "# Start training to calculate the gradient\n",
    "for i in range(NUM_EPOCHS): # train some epochs\n",
    "    train_acc, train_loss = train_epoch_2(A_dataloader)\n",
    "    print(\"Epoch[{:>2d}/{:>2d}] : train_acc = {:.4f}, train_loss = {:.4f}\".format(i+1, NUM_EPOCHS, train_acc, train_loss))"
   ]
  },
  {
   "cell_type": "code",
   "execution_count": 147,
   "metadata": {},
   "outputs": [
    {
     "name": "stdout",
     "output_type": "stream",
     "text": [
      "[{'params': [Parameter containing:\n",
      "tensor([[[[ 0.3012, -0.0695,  0.2053],\n",
      "          [ 0.0865, -0.2857,  0.1909],\n",
      "          [-0.0466,  0.0139,  0.2163]]]], device='cuda:0', requires_grad=True), Parameter containing:\n",
      "tensor([0.3025], device='cuda:0', requires_grad=True), Parameter containing:\n",
      "tensor([[ 0.0428,  0.3035,  0.2705, -0.4848],\n",
      "        [-0.0076,  0.2998, -0.3362,  0.2493]], device='cuda:0',\n",
      "       requires_grad=True), Parameter containing:\n",
      "tensor([ 0.0479, -0.1763], device='cuda:0', requires_grad=True)], 'lr': 0.001, 'betas': (0.9, 0.999), 'eps': 1e-08, 'weight_decay': 0, 'amsgrad': False, 'maximize': False, 'foreach': None, 'capturable': False, 'differentiable': False, 'fused': None}]\n"
     ]
    }
   ],
   "source": [
    "print(optimizer_2.param_groups)"
   ]
  },
  {
   "cell_type": "markdown",
   "metadata": {},
   "source": [
    "See the shape of weight and gradient."
   ]
  },
  {
   "cell_type": "code",
   "execution_count": 148,
   "metadata": {},
   "outputs": [
    {
     "name": "stdout",
     "output_type": "stream",
     "text": [
      "Parameter containing:\n",
      "tensor([[[[ 0.3012, -0.0695,  0.2053],\n",
      "          [ 0.0865, -0.2857,  0.1909],\n",
      "          [-0.0466,  0.0139,  0.2163]]]], device='cuda:0', requires_grad=True)\n",
      "torch.Size([1, 1, 3, 3])\n",
      "tensor([[[[-0.0292, -0.0173, -0.0130],\n",
      "          [-0.0253,  0.0127, -0.0368],\n",
      "          [ 0.0025,  0.0149, -0.0241]]]], device='cuda:0')\n",
      "torch.Size([1, 1, 3, 3])\n"
     ]
    }
   ],
   "source": [
    "print(model_2.conv.weight)\n",
    "print(model_2.conv.weight.shape)\n",
    "\n",
    "print(model_2.conv.weight.grad)\n",
    "print(model_2.conv.weight.grad.shape)\n",
    "# The shape is [1,1,3,3] because conv_layer = nn.Conv2d(in_channels=1, out_channels=1, kernel_size=3)"
   ]
  },
  {
   "cell_type": "markdown",
   "metadata": {},
   "source": [
    "#### 2. Get the gradient of the loss with respect to the input feature a21, as shown in the figure below."
   ]
  },
  {
   "cell_type": "code",
   "execution_count": 149,
   "metadata": {},
   "outputs": [],
   "source": [
    "# hyper parameters\n",
    "LR = 0.001\n",
    "batch_size_train = 1\n",
    "# batch_size_val = 10\n",
    "NUM_EPOCHS = 10\n",
    "\n",
    "model_3 = CNN().to(device)\n",
    "# set loss function\n",
    "criterion_3 = nn.CrossEntropyLoss()\n",
    "# set optimizer\n",
    "optimizer_3 = torch.optim.Adam(model_3.parameters(), lr=LR, betas=(0.9, 0.999))    "
   ]
  },
  {
   "cell_type": "code",
   "execution_count": 150,
   "metadata": {},
   "outputs": [],
   "source": [
    "# train and val func for one epoch\n",
    "def train_epoch_3(train_dataloader):\n",
    "    train_loss = 0.0\n",
    "    train_acc = 0.0\n",
    "    model_3.train()\n",
    "    for x, y in train_dataloader:\n",
    "        x, y = x.to(device), y.to(device)\n",
    "        # want to calculate grad with regard to input\n",
    "        x.requires_grad_() \n",
    "        # clear gradients\n",
    "        optimizer_3.zero_grad()\n",
    "        # predicting\n",
    "        y_pred = model_3(x)\n",
    "        # see loss\n",
    "        loss = criterion_3(y_pred, y)\n",
    "        loss.backward()\n",
    "\n",
    "        # See the gradient with regard to x\n",
    "        a21_grad = x.grad[0, 0, 2, 1].item()\n",
    "        print(\"\\33[33m2-2. The gradient of the loss with respect to the input feature a21: {:.6f}\\33[0m\".format(a21_grad))\n",
    "        # x.grad is torch.Size([batch_size, 1, 4, 4])\n",
    "        \n",
    "        # update the parameters\n",
    "        optimizer_3.step()\n",
    "\n",
    "        train_loss += loss.item()\n",
    "        probs = torch.nn.functional.softmax(y_pred, dim=1)\n",
    "        train_acc += torch.sum(torch.argmax(probs, dim=1) == y).item()\n",
    "    return train_acc / len(train_dataloader.dataset), train_loss / len(train_dataloader.dataset)\n"
   ]
  },
  {
   "cell_type": "code",
   "execution_count": 151,
   "metadata": {},
   "outputs": [
    {
     "name": "stdout",
     "output_type": "stream",
     "text": [
      "\u001b[33m2-2. The gradient of the loss with respect to the input feature a21: 0.002468\u001b[0m\n",
      "Epoch[ 1/10] : train_acc = 0.0000, train_loss = 0.9246\n",
      "\u001b[33m2-2. The gradient of the loss with respect to the input feature a21: 0.002507\u001b[0m\n",
      "Epoch[ 2/10] : train_acc = 0.0000, train_loss = 0.9234\n",
      "\u001b[33m2-2. The gradient of the loss with respect to the input feature a21: 0.002546\u001b[0m\n",
      "Epoch[ 3/10] : train_acc = 0.0000, train_loss = 0.9222\n",
      "\u001b[33m2-2. The gradient of the loss with respect to the input feature a21: 0.002585\u001b[0m\n",
      "Epoch[ 4/10] : train_acc = 0.0000, train_loss = 0.9211\n",
      "\u001b[33m2-2. The gradient of the loss with respect to the input feature a21: 0.002623\u001b[0m\n",
      "Epoch[ 5/10] : train_acc = 0.0000, train_loss = 0.9199\n",
      "\u001b[33m2-2. The gradient of the loss with respect to the input feature a21: 0.002661\u001b[0m\n",
      "Epoch[ 6/10] : train_acc = 0.0000, train_loss = 0.9187\n",
      "\u001b[33m2-2. The gradient of the loss with respect to the input feature a21: 0.002698\u001b[0m\n",
      "Epoch[ 7/10] : train_acc = 0.0000, train_loss = 0.9175\n",
      "\u001b[33m2-2. The gradient of the loss with respect to the input feature a21: 0.002735\u001b[0m\n",
      "Epoch[ 8/10] : train_acc = 0.0000, train_loss = 0.9163\n",
      "\u001b[33m2-2. The gradient of the loss with respect to the input feature a21: 0.002772\u001b[0m\n",
      "Epoch[ 9/10] : train_acc = 0.0000, train_loss = 0.9151\n",
      "\u001b[33m2-2. The gradient of the loss with respect to the input feature a21: 0.002809\u001b[0m\n",
      "Epoch[10/10] : train_acc = 0.0000, train_loss = 0.9139\n"
     ]
    }
   ],
   "source": [
    "# Start training to calculate the gradient\n",
    "for i in range(NUM_EPOCHS): # train some epochs\n",
    "    train_acc, train_loss = train_epoch_3(A_dataloader)\n",
    "    print(\"Epoch[{:>2d}/{:>2d}] : train_acc = {:.4f}, train_loss = {:.4f}\".format(i+1, NUM_EPOCHS, train_acc, train_loss))"
   ]
  }
 ],
 "metadata": {
  "kernelspec": {
   "display_name": "env_opencv",
   "language": "python",
   "name": "python3"
  },
  "language_info": {
   "codemirror_mode": {
    "name": "ipython",
    "version": 3
   },
   "file_extension": ".py",
   "mimetype": "text/x-python",
   "name": "python",
   "nbconvert_exporter": "python",
   "pygments_lexer": "ipython3",
   "version": "3.11.7"
  }
 },
 "nbformat": 4,
 "nbformat_minor": 2
}
